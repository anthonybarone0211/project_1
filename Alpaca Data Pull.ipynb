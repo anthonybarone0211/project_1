{
 "cells": [
  {
   "cell_type": "markdown",
   "id": "3f003fe7",
   "metadata": {},
   "source": [
    "# Pull Alpaca API data for ARKK holdings"
   ]
  },
  {
   "cell_type": "code",
   "execution_count": 1,
   "id": "cb0e4498",
   "metadata": {},
   "outputs": [],
   "source": [
    "import os\n",
    "import requests\n",
    "import pandas as pd\n",
    "from dotenv import load_dotenv\n",
    "import alpaca_trade_api as tradeapi\n",
    "from datetime import datetime, timedelta"
   ]
  },
  {
   "cell_type": "code",
   "execution_count": 2,
   "id": "375c9ed8",
   "metadata": {},
   "outputs": [
    {
     "data": {
      "text/plain": [
       "True"
      ]
     },
     "execution_count": 2,
     "metadata": {},
     "output_type": "execute_result"
    }
   ],
   "source": [
    "load_dotenv()"
   ]
  },
  {
   "cell_type": "code",
   "execution_count": 3,
   "id": "c5e2f0cf",
   "metadata": {},
   "outputs": [],
   "source": [
    "alpaca_api_key = os.getenv(\"ALPACA_API_KEY\")\n",
    "alpaca_secret_key = os.getenv(\"ALPACA_SECRET_KEY\")"
   ]
  },
  {
   "cell_type": "code",
   "execution_count": 4,
   "id": "a10dcae9",
   "metadata": {},
   "outputs": [],
   "source": [
    "alpaca = tradeapi.REST(\n",
    "    alpaca_api_key,\n",
    "    alpaca_secret_key,\n",
    "    api_version=\"v2\")"
   ]
  },
  {
   "cell_type": "code",
   "execution_count": 5,
   "id": "859292c6",
   "metadata": {},
   "outputs": [
    {
     "name": "stdout",
     "output_type": "stream",
     "text": [
      "<alpaca_trade_api.rest.REST object at 0x000002C99C43DF08>\n"
     ]
    }
   ],
   "source": [
    "print(alpaca)"
   ]
  },
  {
   "cell_type": "code",
   "execution_count": 6,
   "id": "fc045f4a",
   "metadata": {},
   "outputs": [],
   "source": [
    "ARK_ETF = [\"TSLA\", \"ROKU\", \"TDOC\", \"ZM\", \"COIN\", \"SQ\", \"SHOP\", \"U\", \"TWLO\", \"SPOT\", \"NTLA\", \"CRSP\", \"EXAS\", \"Z\", \"TWTR\"]"
   ]
  },
  {
   "cell_type": "markdown",
   "id": "bef4869c",
   "metadata": {},
   "source": [
    "#  pull data from Alpaca"
   ]
  },
  {
   "cell_type": "code",
   "execution_count": 7,
   "id": "7092d271",
   "metadata": {},
   "outputs": [],
   "source": [
    "timeframe = \"1D\""
   ]
  },
  {
   "cell_type": "code",
   "execution_count": 8,
   "id": "e5f64741",
   "metadata": {},
   "outputs": [],
   "source": [
    "start_date = pd.Timestamp(\"2020-06-01\", tz=\"America/New_York\").isoformat()\n",
    "end_date = pd.Timestamp(\"2021-08-10\", tz=\"America/New_York\").isoformat()"
   ]
  },
  {
   "cell_type": "code",
   "execution_count": 10,
   "id": "e670f5c2",
   "metadata": {},
   "outputs": [],
   "source": [
    "today = datetime.now()\n",
    "startdate = today - timedelta(days=3*365) # artificially creates 3 years"
   ]
  },
  {
   "cell_type": "code",
   "execution_count": 11,
   "id": "011e9cbc",
   "metadata": {},
   "outputs": [],
   "source": [
    "# this is to convert the datetime format to the pd.Timestamp that alpaca api likes\n",
    "end_date = pd.Timestamp(today.strftime(\"%Y-%m-%d\"), tz=\"America/New_York\").isoformat()\n",
    "start_date = pd.Timestamp(startdate.strftime(\"%Y-%m-%d\"), tz=\"America/New_York\").isoformat()\n",
    "\n",
    "# in C, variables are represented with \"static\" types, each variable type has a different format symbol\n",
    "# format symbols start with %d, %f, %s, %h, ... "
   ]
  },
  {
   "cell_type": "code",
   "execution_count": 12,
   "id": "bf42eb1a",
   "metadata": {},
   "outputs": [],
   "source": [
    "ARK_ETF_portfolio = alpaca.get_barset(\n",
    "    ARK_ETF,\n",
    "    timeframe,\n",
    "    start = start_date,\n",
    "    end = end_date\n",
    ").df"
   ]
  },
  {
   "cell_type": "code",
   "execution_count": 13,
   "id": "bd0ea28b",
   "metadata": {},
   "outputs": [
    {
     "data": {
      "text/html": [
       "<div>\n",
       "<style scoped>\n",
       "    .dataframe tbody tr th:only-of-type {\n",
       "        vertical-align: middle;\n",
       "    }\n",
       "\n",
       "    .dataframe tbody tr th {\n",
       "        vertical-align: top;\n",
       "    }\n",
       "\n",
       "    .dataframe thead tr th {\n",
       "        text-align: left;\n",
       "    }\n",
       "\n",
       "    .dataframe thead tr:last-of-type th {\n",
       "        text-align: right;\n",
       "    }\n",
       "</style>\n",
       "<table border=\"1\" class=\"dataframe\">\n",
       "  <thead>\n",
       "    <tr>\n",
       "      <th></th>\n",
       "      <th colspan=\"5\" halign=\"left\">COIN</th>\n",
       "      <th colspan=\"5\" halign=\"left\">CRSP</th>\n",
       "      <th>...</th>\n",
       "      <th colspan=\"5\" halign=\"left\">Z</th>\n",
       "      <th colspan=\"5\" halign=\"left\">ZM</th>\n",
       "    </tr>\n",
       "    <tr>\n",
       "      <th></th>\n",
       "      <th>open</th>\n",
       "      <th>high</th>\n",
       "      <th>low</th>\n",
       "      <th>close</th>\n",
       "      <th>volume</th>\n",
       "      <th>open</th>\n",
       "      <th>high</th>\n",
       "      <th>low</th>\n",
       "      <th>close</th>\n",
       "      <th>volume</th>\n",
       "      <th>...</th>\n",
       "      <th>open</th>\n",
       "      <th>high</th>\n",
       "      <th>low</th>\n",
       "      <th>close</th>\n",
       "      <th>volume</th>\n",
       "      <th>open</th>\n",
       "      <th>high</th>\n",
       "      <th>low</th>\n",
       "      <th>close</th>\n",
       "      <th>volume</th>\n",
       "    </tr>\n",
       "    <tr>\n",
       "      <th>time</th>\n",
       "      <th></th>\n",
       "      <th></th>\n",
       "      <th></th>\n",
       "      <th></th>\n",
       "      <th></th>\n",
       "      <th></th>\n",
       "      <th></th>\n",
       "      <th></th>\n",
       "      <th></th>\n",
       "      <th></th>\n",
       "      <th></th>\n",
       "      <th></th>\n",
       "      <th></th>\n",
       "      <th></th>\n",
       "      <th></th>\n",
       "      <th></th>\n",
       "      <th></th>\n",
       "      <th></th>\n",
       "      <th></th>\n",
       "      <th></th>\n",
       "      <th></th>\n",
       "    </tr>\n",
       "  </thead>\n",
       "  <tbody>\n",
       "    <tr>\n",
       "      <th>2021-03-19 00:00:00-04:00</th>\n",
       "      <td>NaN</td>\n",
       "      <td>NaN</td>\n",
       "      <td>NaN</td>\n",
       "      <td>NaN</td>\n",
       "      <td>NaN</td>\n",
       "      <td>123.9100</td>\n",
       "      <td>129.99</td>\n",
       "      <td>122.64</td>\n",
       "      <td>129.68</td>\n",
       "      <td>1480140</td>\n",
       "      <td>...</td>\n",
       "      <td>132.35</td>\n",
       "      <td>136.2300</td>\n",
       "      <td>129.2600</td>\n",
       "      <td>134.62</td>\n",
       "      <td>2603110</td>\n",
       "      <td>316.83</td>\n",
       "      <td>327.9773</td>\n",
       "      <td>313.6300</td>\n",
       "      <td>326.51</td>\n",
       "      <td>3729686</td>\n",
       "    </tr>\n",
       "    <tr>\n",
       "      <th>2021-03-22 00:00:00-04:00</th>\n",
       "      <td>NaN</td>\n",
       "      <td>NaN</td>\n",
       "      <td>NaN</td>\n",
       "      <td>NaN</td>\n",
       "      <td>NaN</td>\n",
       "      <td>130.6738</td>\n",
       "      <td>135.25</td>\n",
       "      <td>128.28</td>\n",
       "      <td>133.00</td>\n",
       "      <td>1179312</td>\n",
       "      <td>...</td>\n",
       "      <td>137.90</td>\n",
       "      <td>139.9300</td>\n",
       "      <td>134.8921</td>\n",
       "      <td>137.95</td>\n",
       "      <td>1869668</td>\n",
       "      <td>329.45</td>\n",
       "      <td>333.8899</td>\n",
       "      <td>327.0100</td>\n",
       "      <td>328.43</td>\n",
       "      <td>2644747</td>\n",
       "    </tr>\n",
       "    <tr>\n",
       "      <th>2021-03-23 00:00:00-04:00</th>\n",
       "      <td>NaN</td>\n",
       "      <td>NaN</td>\n",
       "      <td>NaN</td>\n",
       "      <td>NaN</td>\n",
       "      <td>NaN</td>\n",
       "      <td>132.4000</td>\n",
       "      <td>132.10</td>\n",
       "      <td>124.21</td>\n",
       "      <td>126.57</td>\n",
       "      <td>1741323</td>\n",
       "      <td>...</td>\n",
       "      <td>137.95</td>\n",
       "      <td>139.1600</td>\n",
       "      <td>132.6801</td>\n",
       "      <td>134.48</td>\n",
       "      <td>1711711</td>\n",
       "      <td>330.65</td>\n",
       "      <td>347.4000</td>\n",
       "      <td>329.3523</td>\n",
       "      <td>339.53</td>\n",
       "      <td>5091320</td>\n",
       "    </tr>\n",
       "    <tr>\n",
       "      <th>2021-03-24 00:00:00-04:00</th>\n",
       "      <td>NaN</td>\n",
       "      <td>NaN</td>\n",
       "      <td>NaN</td>\n",
       "      <td>NaN</td>\n",
       "      <td>NaN</td>\n",
       "      <td>126.8200</td>\n",
       "      <td>127.75</td>\n",
       "      <td>114.31</td>\n",
       "      <td>115.44</td>\n",
       "      <td>2081898</td>\n",
       "      <td>...</td>\n",
       "      <td>136.49</td>\n",
       "      <td>136.6500</td>\n",
       "      <td>126.3200</td>\n",
       "      <td>127.34</td>\n",
       "      <td>2862724</td>\n",
       "      <td>338.05</td>\n",
       "      <td>339.9900</td>\n",
       "      <td>314.3504</td>\n",
       "      <td>315.01</td>\n",
       "      <td>4584060</td>\n",
       "    </tr>\n",
       "    <tr>\n",
       "      <th>2021-03-25 00:00:00-04:00</th>\n",
       "      <td>NaN</td>\n",
       "      <td>NaN</td>\n",
       "      <td>NaN</td>\n",
       "      <td>NaN</td>\n",
       "      <td>NaN</td>\n",
       "      <td>110.9900</td>\n",
       "      <td>115.96</td>\n",
       "      <td>107.52</td>\n",
       "      <td>114.65</td>\n",
       "      <td>2248990</td>\n",
       "      <td>...</td>\n",
       "      <td>122.81</td>\n",
       "      <td>127.5799</td>\n",
       "      <td>120.2200</td>\n",
       "      <td>124.92</td>\n",
       "      <td>4615800</td>\n",
       "      <td>311.70</td>\n",
       "      <td>320.6300</td>\n",
       "      <td>308.3100</td>\n",
       "      <td>314.87</td>\n",
       "      <td>3203703</td>\n",
       "    </tr>\n",
       "  </tbody>\n",
       "</table>\n",
       "<p>5 rows × 75 columns</p>\n",
       "</div>"
      ],
      "text/plain": [
       "                          COIN                            CRSP          \\\n",
       "                          open high low close volume      open    high   \n",
       "time                                                                     \n",
       "2021-03-19 00:00:00-04:00  NaN  NaN NaN   NaN    NaN  123.9100  129.99   \n",
       "2021-03-22 00:00:00-04:00  NaN  NaN NaN   NaN    NaN  130.6738  135.25   \n",
       "2021-03-23 00:00:00-04:00  NaN  NaN NaN   NaN    NaN  132.4000  132.10   \n",
       "2021-03-24 00:00:00-04:00  NaN  NaN NaN   NaN    NaN  126.8200  127.75   \n",
       "2021-03-25 00:00:00-04:00  NaN  NaN NaN   NaN    NaN  110.9900  115.96   \n",
       "\n",
       "                                                    ...       Z            \\\n",
       "                              low   close   volume  ...    open      high   \n",
       "time                                                ...                     \n",
       "2021-03-19 00:00:00-04:00  122.64  129.68  1480140  ...  132.35  136.2300   \n",
       "2021-03-22 00:00:00-04:00  128.28  133.00  1179312  ...  137.90  139.9300   \n",
       "2021-03-23 00:00:00-04:00  124.21  126.57  1741323  ...  137.95  139.1600   \n",
       "2021-03-24 00:00:00-04:00  114.31  115.44  2081898  ...  136.49  136.6500   \n",
       "2021-03-25 00:00:00-04:00  107.52  114.65  2248990  ...  122.81  127.5799   \n",
       "\n",
       "                                                          ZM            \\\n",
       "                                low   close   volume    open      high   \n",
       "time                                                                     \n",
       "2021-03-19 00:00:00-04:00  129.2600  134.62  2603110  316.83  327.9773   \n",
       "2021-03-22 00:00:00-04:00  134.8921  137.95  1869668  329.45  333.8899   \n",
       "2021-03-23 00:00:00-04:00  132.6801  134.48  1711711  330.65  347.4000   \n",
       "2021-03-24 00:00:00-04:00  126.3200  127.34  2862724  338.05  339.9900   \n",
       "2021-03-25 00:00:00-04:00  120.2200  124.92  4615800  311.70  320.6300   \n",
       "\n",
       "                                                      \n",
       "                                low   close   volume  \n",
       "time                                                  \n",
       "2021-03-19 00:00:00-04:00  313.6300  326.51  3729686  \n",
       "2021-03-22 00:00:00-04:00  327.0100  328.43  2644747  \n",
       "2021-03-23 00:00:00-04:00  329.3523  339.53  5091320  \n",
       "2021-03-24 00:00:00-04:00  314.3504  315.01  4584060  \n",
       "2021-03-25 00:00:00-04:00  308.3100  314.87  3203703  \n",
       "\n",
       "[5 rows x 75 columns]"
      ]
     },
     "execution_count": 13,
     "metadata": {},
     "output_type": "execute_result"
    }
   ],
   "source": [
    "ARK_ETF_portfolio.head()"
   ]
  },
  {
   "cell_type": "code",
   "execution_count": null,
   "id": "18c2c57e",
   "metadata": {},
   "outputs": [],
   "source": []
  }
 ],
 "metadata": {
  "kernelspec": {
   "display_name": "Python (dev)",
   "language": "python",
   "name": "dev"
  },
  "language_info": {
   "codemirror_mode": {
    "name": "ipython",
    "version": 3
   },
   "file_extension": ".py",
   "mimetype": "text/x-python",
   "name": "python",
   "nbconvert_exporter": "python",
   "pygments_lexer": "ipython3",
   "version": "3.7.10"
  }
 },
 "nbformat": 4,
 "nbformat_minor": 5
}
