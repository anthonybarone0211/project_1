{
 "cells": [
  {
   "cell_type": "markdown",
   "id": "9e2d69a7",
   "metadata": {},
   "source": [
    "# Pull Alpaca API data for ARKK holdings"
   ]
  },
  {
   "cell_type": "code",
   "execution_count": 1,
   "id": "fb5d6d27",
   "metadata": {},
   "outputs": [],
   "source": [
    "import os\n",
    "import requests\n",
    "import pandas as pd\n",
    "from dotenv import load_dotenv\n",
    "import alpaca_trade_api as tradeapi\n",
    "from datetime import datetime, timedelta"
   ]
  },
  {
   "cell_type": "code",
   "execution_count": 2,
   "id": "3279b119",
   "metadata": {},
   "outputs": [
    {
     "data": {
      "text/plain": [
       "True"
      ]
     },
     "execution_count": 2,
     "metadata": {},
     "output_type": "execute_result"
    }
   ],
   "source": [
    "load_dotenv()"
   ]
  },
  {
   "cell_type": "code",
   "execution_count": 3,
   "id": "afc57444",
   "metadata": {},
   "outputs": [],
   "source": [
    "alpaca_api_key = os.getenv(\"ALPACA_API_KEY\")\n",
    "alpaca_secret_key = os.getenv(\"ALPACA_SECRET_KEY\")"
   ]
  },
  {
   "cell_type": "code",
   "execution_count": 4,
   "id": "682de02d",
   "metadata": {},
   "outputs": [],
   "source": [
    "alpaca = tradeapi.REST(\n",
    "    alpaca_api_key,\n",
    "    alpaca_secret_key,\n",
    "    api_version=\"v2\")"
   ]
  },
  {
   "cell_type": "code",
   "execution_count": 5,
   "id": "b0101815",
   "metadata": {},
   "outputs": [
    {
     "name": "stdout",
     "output_type": "stream",
     "text": [
      "<alpaca_trade_api.rest.REST object at 0x000002595A2DD790>\n"
     ]
    }
   ],
   "source": [
    "print(alpaca)"
   ]
  },
  {
   "cell_type": "markdown",
   "id": "5d135323",
   "metadata": {},
   "source": [
    "## ARK ETF - Alpaca Data Pull"
   ]
  },
  {
   "cell_type": "code",
   "execution_count": 6,
   "id": "3c3baca4",
   "metadata": {},
   "outputs": [],
   "source": [
    "ARK_ETF = [\"TSLA\", \"ROKU\", \"TDOC\", \"MSTR\", \"SQ\", \"SHOP\", \"TTWO\", \"TWLO\", \"SPOT\", \"NTLA\", \"CRSP\", \"EXAS\", \"Z\", \"TWTR\", \"TER\"]"
   ]
  },
  {
   "cell_type": "code",
   "execution_count": 7,
   "id": "bb5d533c",
   "metadata": {},
   "outputs": [],
   "source": [
    "timeframe = \"1D\""
   ]
  },
  {
   "cell_type": "code",
   "execution_count": 8,
   "id": "d9ba0a02",
   "metadata": {},
   "outputs": [],
   "source": [
    "start_date = pd.Timestamp(\"2018-09-01\", tz=\"America/New_York\").isoformat()\n",
    "end_date = pd.Timestamp(\"2021-08-01\", tz=\"America/New_York\").isoformat()"
   ]
  },
  {
   "cell_type": "code",
   "execution_count": 9,
   "id": "e7ffb202",
   "metadata": {},
   "outputs": [],
   "source": [
    " ## This code artificially creates 3 years -- could replace code in line 8 --"
   ]
  },
  {
   "cell_type": "code",
   "execution_count": 10,
   "id": "a67b8da8",
   "metadata": {},
   "outputs": [],
   "source": [
    "# today = datetime.now()\n",
    "# startdate = today - timedelta(days=3*365)"
   ]
  },
  {
   "cell_type": "code",
   "execution_count": 11,
   "id": "4c89a3ae",
   "metadata": {},
   "outputs": [],
   "source": [
    "# this is to convert the datetime format to the pd.Timestamp that alpaca api syntax requirement"
   ]
  },
  {
   "cell_type": "code",
   "execution_count": 12,
   "id": "f7ec9ea6",
   "metadata": {},
   "outputs": [],
   "source": [
    "# end_date = pd.Timestamp(today.strftime(\"%Y-%m-%d\"), tz=\"America/New_York\").isoformat()\n",
    "# start_date = pd.Timestamp(startdate.strftime(\"%Y-%m-%d\"), tz=\"America/New_York\").isoformat()"
   ]
  },
  {
   "cell_type": "code",
   "execution_count": 13,
   "id": "e2552e6f",
   "metadata": {},
   "outputs": [],
   "source": [
    "ARK_ETF_portfolio = alpaca.get_barset(\n",
    "    ARK_ETF,\n",
    "    timeframe,\n",
    "    start = start_date,\n",
    "    end = end_date,\n",
    "    limit=1000\n",
    ").df"
   ]
  },
  {
   "cell_type": "code",
   "execution_count": 14,
   "id": "6c4ba8e9",
   "metadata": {},
   "outputs": [
    {
     "data": {
      "text/html": [
       "<div>\n",
       "<style scoped>\n",
       "    .dataframe tbody tr th:only-of-type {\n",
       "        vertical-align: middle;\n",
       "    }\n",
       "\n",
       "    .dataframe tbody tr th {\n",
       "        vertical-align: top;\n",
       "    }\n",
       "\n",
       "    .dataframe thead tr th {\n",
       "        text-align: left;\n",
       "    }\n",
       "\n",
       "    .dataframe thead tr:last-of-type th {\n",
       "        text-align: right;\n",
       "    }\n",
       "</style>\n",
       "<table border=\"1\" class=\"dataframe\">\n",
       "  <thead>\n",
       "    <tr>\n",
       "      <th></th>\n",
       "      <th colspan=\"5\" halign=\"left\">CRSP</th>\n",
       "      <th colspan=\"5\" halign=\"left\">EXAS</th>\n",
       "      <th>...</th>\n",
       "      <th colspan=\"5\" halign=\"left\">TWTR</th>\n",
       "      <th colspan=\"5\" halign=\"left\">Z</th>\n",
       "    </tr>\n",
       "    <tr>\n",
       "      <th></th>\n",
       "      <th>open</th>\n",
       "      <th>high</th>\n",
       "      <th>low</th>\n",
       "      <th>close</th>\n",
       "      <th>volume</th>\n",
       "      <th>open</th>\n",
       "      <th>high</th>\n",
       "      <th>low</th>\n",
       "      <th>close</th>\n",
       "      <th>volume</th>\n",
       "      <th>...</th>\n",
       "      <th>open</th>\n",
       "      <th>high</th>\n",
       "      <th>low</th>\n",
       "      <th>close</th>\n",
       "      <th>volume</th>\n",
       "      <th>open</th>\n",
       "      <th>high</th>\n",
       "      <th>low</th>\n",
       "      <th>close</th>\n",
       "      <th>volume</th>\n",
       "    </tr>\n",
       "    <tr>\n",
       "      <th>time</th>\n",
       "      <th></th>\n",
       "      <th></th>\n",
       "      <th></th>\n",
       "      <th></th>\n",
       "      <th></th>\n",
       "      <th></th>\n",
       "      <th></th>\n",
       "      <th></th>\n",
       "      <th></th>\n",
       "      <th></th>\n",
       "      <th></th>\n",
       "      <th></th>\n",
       "      <th></th>\n",
       "      <th></th>\n",
       "      <th></th>\n",
       "      <th></th>\n",
       "      <th></th>\n",
       "      <th></th>\n",
       "      <th></th>\n",
       "      <th></th>\n",
       "      <th></th>\n",
       "    </tr>\n",
       "  </thead>\n",
       "  <tbody>\n",
       "    <tr>\n",
       "      <th>2018-09-04 00:00:00-04:00</th>\n",
       "      <td>58.50</td>\n",
       "      <td>59.00</td>\n",
       "      <td>53.600</td>\n",
       "      <td>55.50</td>\n",
       "      <td>1032358</td>\n",
       "      <td>74.50</td>\n",
       "      <td>77.75</td>\n",
       "      <td>74.26</td>\n",
       "      <td>77.61</td>\n",
       "      <td>1377323</td>\n",
       "      <td>...</td>\n",
       "      <td>34.75</td>\n",
       "      <td>35.125</td>\n",
       "      <td>34.4800</td>\n",
       "      <td>34.84</td>\n",
       "      <td>12200652</td>\n",
       "      <td>48.55</td>\n",
       "      <td>48.900</td>\n",
       "      <td>47.56</td>\n",
       "      <td>47.72</td>\n",
       "      <td>1177704</td>\n",
       "    </tr>\n",
       "    <tr>\n",
       "      <th>2018-09-05 00:00:00-04:00</th>\n",
       "      <td>55.50</td>\n",
       "      <td>55.50</td>\n",
       "      <td>52.005</td>\n",
       "      <td>53.44</td>\n",
       "      <td>606929</td>\n",
       "      <td>79.08</td>\n",
       "      <td>80.35</td>\n",
       "      <td>74.26</td>\n",
       "      <td>75.80</td>\n",
       "      <td>1713741</td>\n",
       "      <td>...</td>\n",
       "      <td>34.65</td>\n",
       "      <td>34.700</td>\n",
       "      <td>32.5100</td>\n",
       "      <td>32.73</td>\n",
       "      <td>32198973</td>\n",
       "      <td>47.82</td>\n",
       "      <td>48.270</td>\n",
       "      <td>46.91</td>\n",
       "      <td>47.67</td>\n",
       "      <td>1171127</td>\n",
       "    </tr>\n",
       "    <tr>\n",
       "      <th>2018-09-06 00:00:00-04:00</th>\n",
       "      <td>53.17</td>\n",
       "      <td>53.72</td>\n",
       "      <td>49.580</td>\n",
       "      <td>49.84</td>\n",
       "      <td>558842</td>\n",
       "      <td>76.12</td>\n",
       "      <td>76.92</td>\n",
       "      <td>74.15</td>\n",
       "      <td>75.04</td>\n",
       "      <td>1039141</td>\n",
       "      <td>...</td>\n",
       "      <td>32.86</td>\n",
       "      <td>32.950</td>\n",
       "      <td>30.6200</td>\n",
       "      <td>30.82</td>\n",
       "      <td>33189835</td>\n",
       "      <td>47.68</td>\n",
       "      <td>47.980</td>\n",
       "      <td>43.87</td>\n",
       "      <td>44.62</td>\n",
       "      <td>2537771</td>\n",
       "    </tr>\n",
       "    <tr>\n",
       "      <th>2018-09-07 00:00:00-04:00</th>\n",
       "      <td>50.00</td>\n",
       "      <td>51.73</td>\n",
       "      <td>49.360</td>\n",
       "      <td>50.12</td>\n",
       "      <td>431793</td>\n",
       "      <td>74.96</td>\n",
       "      <td>78.95</td>\n",
       "      <td>74.41</td>\n",
       "      <td>77.22</td>\n",
       "      <td>1384215</td>\n",
       "      <td>...</td>\n",
       "      <td>30.31</td>\n",
       "      <td>31.390</td>\n",
       "      <td>29.8200</td>\n",
       "      <td>30.49</td>\n",
       "      <td>28893185</td>\n",
       "      <td>44.58</td>\n",
       "      <td>46.115</td>\n",
       "      <td>44.52</td>\n",
       "      <td>44.93</td>\n",
       "      <td>1830479</td>\n",
       "    </tr>\n",
       "    <tr>\n",
       "      <th>2018-09-10 00:00:00-04:00</th>\n",
       "      <td>50.66</td>\n",
       "      <td>50.85</td>\n",
       "      <td>47.500</td>\n",
       "      <td>49.67</td>\n",
       "      <td>1106214</td>\n",
       "      <td>77.51</td>\n",
       "      <td>78.00</td>\n",
       "      <td>75.58</td>\n",
       "      <td>75.99</td>\n",
       "      <td>812537</td>\n",
       "      <td>...</td>\n",
       "      <td>30.50</td>\n",
       "      <td>30.600</td>\n",
       "      <td>29.9531</td>\n",
       "      <td>30.54</td>\n",
       "      <td>15451664</td>\n",
       "      <td>45.00</td>\n",
       "      <td>46.200</td>\n",
       "      <td>44.60</td>\n",
       "      <td>46.12</td>\n",
       "      <td>1103775</td>\n",
       "    </tr>\n",
       "  </tbody>\n",
       "</table>\n",
       "<p>5 rows × 75 columns</p>\n",
       "</div>"
      ],
      "text/plain": [
       "                            CRSP                                  EXAS         \\\n",
       "                            open   high     low  close   volume   open   high   \n",
       "time                                                                            \n",
       "2018-09-04 00:00:00-04:00  58.50  59.00  53.600  55.50  1032358  74.50  77.75   \n",
       "2018-09-05 00:00:00-04:00  55.50  55.50  52.005  53.44   606929  79.08  80.35   \n",
       "2018-09-06 00:00:00-04:00  53.17  53.72  49.580  49.84   558842  76.12  76.92   \n",
       "2018-09-07 00:00:00-04:00  50.00  51.73  49.360  50.12   431793  74.96  78.95   \n",
       "2018-09-10 00:00:00-04:00  50.66  50.85  47.500  49.67  1106214  77.51  78.00   \n",
       "\n",
       "                                                  ...   TWTR                   \\\n",
       "                             low  close   volume  ...   open    high      low   \n",
       "time                                              ...                           \n",
       "2018-09-04 00:00:00-04:00  74.26  77.61  1377323  ...  34.75  35.125  34.4800   \n",
       "2018-09-05 00:00:00-04:00  74.26  75.80  1713741  ...  34.65  34.700  32.5100   \n",
       "2018-09-06 00:00:00-04:00  74.15  75.04  1039141  ...  32.86  32.950  30.6200   \n",
       "2018-09-07 00:00:00-04:00  74.41  77.22  1384215  ...  30.31  31.390  29.8200   \n",
       "2018-09-10 00:00:00-04:00  75.58  75.99   812537  ...  30.50  30.600  29.9531   \n",
       "\n",
       "                                                Z                        \\\n",
       "                           close    volume   open    high    low  close   \n",
       "time                                                                      \n",
       "2018-09-04 00:00:00-04:00  34.84  12200652  48.55  48.900  47.56  47.72   \n",
       "2018-09-05 00:00:00-04:00  32.73  32198973  47.82  48.270  46.91  47.67   \n",
       "2018-09-06 00:00:00-04:00  30.82  33189835  47.68  47.980  43.87  44.62   \n",
       "2018-09-07 00:00:00-04:00  30.49  28893185  44.58  46.115  44.52  44.93   \n",
       "2018-09-10 00:00:00-04:00  30.54  15451664  45.00  46.200  44.60  46.12   \n",
       "\n",
       "                                    \n",
       "                            volume  \n",
       "time                                \n",
       "2018-09-04 00:00:00-04:00  1177704  \n",
       "2018-09-05 00:00:00-04:00  1171127  \n",
       "2018-09-06 00:00:00-04:00  2537771  \n",
       "2018-09-07 00:00:00-04:00  1830479  \n",
       "2018-09-10 00:00:00-04:00  1103775  \n",
       "\n",
       "[5 rows x 75 columns]"
      ]
     },
     "execution_count": 14,
     "metadata": {},
     "output_type": "execute_result"
    }
   ],
   "source": [
    "ARK_ETF_portfolio.head()"
   ]
  },
  {
   "cell_type": "code",
   "execution_count": 15,
   "id": "63c8b2d2",
   "metadata": {},
   "outputs": [],
   "source": [
    "## saving ARK_ETF_portfolio to csv"
   ]
  },
  {
   "cell_type": "code",
   "execution_count": 16,
   "id": "ddda69f9",
   "metadata": {},
   "outputs": [],
   "source": [
    "ARK_ETF_portfolio.to_csv(\"Ark_ETF.csv\")"
   ]
  },
  {
   "cell_type": "markdown",
   "id": "4e2c6383",
   "metadata": {},
   "source": [
    "### Competitors - Alpaca Data Pull"
   ]
  },
  {
   "cell_type": "code",
   "execution_count": 17,
   "id": "fdbaf724",
   "metadata": {},
   "outputs": [],
   "source": [
    "competitors_df = [\"NIO\", \"NFLX\", \"PFE\", \"MSFT\", \"V\", \"PYPL\", \"CRM\", \"ATVI\", \"VG\", \"TTD\", \"IONS\", \"NVAX\", \"AMGN\", \"RDFN\", \"SNAP\"]"
   ]
  },
  {
   "cell_type": "code",
   "execution_count": 18,
   "id": "efcffec3",
   "metadata": {},
   "outputs": [],
   "source": [
    "timeframe = \"1D\""
   ]
  },
  {
   "cell_type": "code",
   "execution_count": 19,
   "id": "90f99f34",
   "metadata": {},
   "outputs": [],
   "source": [
    "start_date = pd.Timestamp(\"2018-09-01\", tz=\"America/New_York\").isoformat()\n",
    "end_date = pd.Timestamp(\"2021-08-01\", tz=\"America/New_York\").isoformat()"
   ]
  },
  {
   "cell_type": "code",
   "execution_count": 20,
   "id": "c93a2791",
   "metadata": {},
   "outputs": [],
   "source": [
    " ## This code artificially creates 3 years -- could replace code in line 16 --"
   ]
  },
  {
   "cell_type": "code",
   "execution_count": 21,
   "id": "f1b71f04",
   "metadata": {},
   "outputs": [],
   "source": [
    "today = datetime.now()\n",
    "startdate = today - timedelta(days=3*365)"
   ]
  },
  {
   "cell_type": "code",
   "execution_count": 22,
   "id": "5f977bcc",
   "metadata": {},
   "outputs": [],
   "source": [
    "end_date = pd.Timestamp(today.strftime(\"%Y-%m-%d\"), tz=\"America/New_York\").isoformat()\n",
    "start_date = pd.Timestamp(startdate.strftime(\"%Y-%m-%d\"), tz=\"America/New_York\").isoformat()"
   ]
  },
  {
   "cell_type": "code",
   "execution_count": 23,
   "id": "f04fdc41",
   "metadata": {},
   "outputs": [],
   "source": [
    "competitors_list = alpaca.get_barset(\n",
    "    competitors_df,\n",
    "    timeframe,\n",
    "    start = start_date,\n",
    "    end = end_date,\n",
    "    limit=1000\n",
    ").df"
   ]
  },
  {
   "cell_type": "code",
   "execution_count": 24,
   "id": "8cc591e6",
   "metadata": {},
   "outputs": [
    {
     "data": {
      "text/html": [
       "<div>\n",
       "<style scoped>\n",
       "    .dataframe tbody tr th:only-of-type {\n",
       "        vertical-align: middle;\n",
       "    }\n",
       "\n",
       "    .dataframe tbody tr th {\n",
       "        vertical-align: top;\n",
       "    }\n",
       "\n",
       "    .dataframe thead tr th {\n",
       "        text-align: left;\n",
       "    }\n",
       "\n",
       "    .dataframe thead tr:last-of-type th {\n",
       "        text-align: right;\n",
       "    }\n",
       "</style>\n",
       "<table border=\"1\" class=\"dataframe\">\n",
       "  <thead>\n",
       "    <tr>\n",
       "      <th></th>\n",
       "      <th colspan=\"5\" halign=\"left\">AMGN</th>\n",
       "      <th colspan=\"5\" halign=\"left\">ATVI</th>\n",
       "      <th>...</th>\n",
       "      <th colspan=\"5\" halign=\"left\">V</th>\n",
       "      <th colspan=\"5\" halign=\"left\">VG</th>\n",
       "    </tr>\n",
       "    <tr>\n",
       "      <th></th>\n",
       "      <th>open</th>\n",
       "      <th>high</th>\n",
       "      <th>low</th>\n",
       "      <th>close</th>\n",
       "      <th>volume</th>\n",
       "      <th>open</th>\n",
       "      <th>high</th>\n",
       "      <th>low</th>\n",
       "      <th>close</th>\n",
       "      <th>volume</th>\n",
       "      <th>...</th>\n",
       "      <th>open</th>\n",
       "      <th>high</th>\n",
       "      <th>low</th>\n",
       "      <th>close</th>\n",
       "      <th>volume</th>\n",
       "      <th>open</th>\n",
       "      <th>high</th>\n",
       "      <th>low</th>\n",
       "      <th>close</th>\n",
       "      <th>volume</th>\n",
       "    </tr>\n",
       "    <tr>\n",
       "      <th>time</th>\n",
       "      <th></th>\n",
       "      <th></th>\n",
       "      <th></th>\n",
       "      <th></th>\n",
       "      <th></th>\n",
       "      <th></th>\n",
       "      <th></th>\n",
       "      <th></th>\n",
       "      <th></th>\n",
       "      <th></th>\n",
       "      <th></th>\n",
       "      <th></th>\n",
       "      <th></th>\n",
       "      <th></th>\n",
       "      <th></th>\n",
       "      <th></th>\n",
       "      <th></th>\n",
       "      <th></th>\n",
       "      <th></th>\n",
       "      <th></th>\n",
       "      <th></th>\n",
       "    </tr>\n",
       "  </thead>\n",
       "  <tbody>\n",
       "    <tr>\n",
       "      <th>2018-08-13 00:00:00-04:00</th>\n",
       "      <td>194.69</td>\n",
       "      <td>196.32</td>\n",
       "      <td>193.72</td>\n",
       "      <td>195.60</td>\n",
       "      <td>1404144</td>\n",
       "      <td>70.61</td>\n",
       "      <td>72.3000</td>\n",
       "      <td>70.255</td>\n",
       "      <td>70.52</td>\n",
       "      <td>5205271.0</td>\n",
       "      <td>...</td>\n",
       "      <td>140.53</td>\n",
       "      <td>141.24</td>\n",
       "      <td>139.830</td>\n",
       "      <td>140.20</td>\n",
       "      <td>3372702</td>\n",
       "      <td>13.71</td>\n",
       "      <td>13.80</td>\n",
       "      <td>13.66</td>\n",
       "      <td>13.700</td>\n",
       "      <td>671607.0</td>\n",
       "    </tr>\n",
       "    <tr>\n",
       "      <th>2018-08-14 00:00:00-04:00</th>\n",
       "      <td>195.94</td>\n",
       "      <td>196.96</td>\n",
       "      <td>194.89</td>\n",
       "      <td>195.78</td>\n",
       "      <td>934342</td>\n",
       "      <td>71.04</td>\n",
       "      <td>71.7359</td>\n",
       "      <td>70.180</td>\n",
       "      <td>71.29</td>\n",
       "      <td>4233814.0</td>\n",
       "      <td>...</td>\n",
       "      <td>140.30</td>\n",
       "      <td>140.99</td>\n",
       "      <td>139.880</td>\n",
       "      <td>140.76</td>\n",
       "      <td>3860391</td>\n",
       "      <td>13.70</td>\n",
       "      <td>14.38</td>\n",
       "      <td>13.69</td>\n",
       "      <td>14.370</td>\n",
       "      <td>1916199.0</td>\n",
       "    </tr>\n",
       "    <tr>\n",
       "      <th>2018-08-15 00:00:00-04:00</th>\n",
       "      <td>194.83</td>\n",
       "      <td>195.48</td>\n",
       "      <td>192.89</td>\n",
       "      <td>195.23</td>\n",
       "      <td>1619580</td>\n",
       "      <td>70.39</td>\n",
       "      <td>70.8100</td>\n",
       "      <td>68.445</td>\n",
       "      <td>69.31</td>\n",
       "      <td>7779210.0</td>\n",
       "      <td>...</td>\n",
       "      <td>140.35</td>\n",
       "      <td>140.69</td>\n",
       "      <td>138.840</td>\n",
       "      <td>139.92</td>\n",
       "      <td>3682605</td>\n",
       "      <td>14.37</td>\n",
       "      <td>14.50</td>\n",
       "      <td>14.09</td>\n",
       "      <td>14.125</td>\n",
       "      <td>1875413.0</td>\n",
       "    </tr>\n",
       "    <tr>\n",
       "      <th>2018-08-16 00:00:00-04:00</th>\n",
       "      <td>194.46</td>\n",
       "      <td>197.13</td>\n",
       "      <td>192.73</td>\n",
       "      <td>196.48</td>\n",
       "      <td>2041279</td>\n",
       "      <td>69.68</td>\n",
       "      <td>69.9900</td>\n",
       "      <td>68.910</td>\n",
       "      <td>69.69</td>\n",
       "      <td>8359894.0</td>\n",
       "      <td>...</td>\n",
       "      <td>140.75</td>\n",
       "      <td>141.49</td>\n",
       "      <td>140.420</td>\n",
       "      <td>140.64</td>\n",
       "      <td>3688784</td>\n",
       "      <td>14.13</td>\n",
       "      <td>14.46</td>\n",
       "      <td>14.08</td>\n",
       "      <td>14.240</td>\n",
       "      <td>899309.0</td>\n",
       "    </tr>\n",
       "    <tr>\n",
       "      <th>2018-08-17 00:00:00-04:00</th>\n",
       "      <td>196.24</td>\n",
       "      <td>198.51</td>\n",
       "      <td>195.28</td>\n",
       "      <td>197.42</td>\n",
       "      <td>1750815</td>\n",
       "      <td>69.51</td>\n",
       "      <td>69.6700</td>\n",
       "      <td>68.330</td>\n",
       "      <td>69.14</td>\n",
       "      <td>4825534.0</td>\n",
       "      <td>...</td>\n",
       "      <td>140.78</td>\n",
       "      <td>141.71</td>\n",
       "      <td>140.565</td>\n",
       "      <td>141.38</td>\n",
       "      <td>3938667</td>\n",
       "      <td>14.23</td>\n",
       "      <td>14.59</td>\n",
       "      <td>14.14</td>\n",
       "      <td>14.560</td>\n",
       "      <td>1050613.0</td>\n",
       "    </tr>\n",
       "  </tbody>\n",
       "</table>\n",
       "<p>5 rows × 75 columns</p>\n",
       "</div>"
      ],
      "text/plain": [
       "                             AMGN                                    ATVI  \\\n",
       "                             open    high     low   close   volume   open   \n",
       "time                                                                        \n",
       "2018-08-13 00:00:00-04:00  194.69  196.32  193.72  195.60  1404144  70.61   \n",
       "2018-08-14 00:00:00-04:00  195.94  196.96  194.89  195.78   934342  71.04   \n",
       "2018-08-15 00:00:00-04:00  194.83  195.48  192.89  195.23  1619580  70.39   \n",
       "2018-08-16 00:00:00-04:00  194.46  197.13  192.73  196.48  2041279  69.68   \n",
       "2018-08-17 00:00:00-04:00  196.24  198.51  195.28  197.42  1750815  69.51   \n",
       "\n",
       "                                                              ...       V  \\\n",
       "                              high     low  close     volume  ...    open   \n",
       "time                                                          ...           \n",
       "2018-08-13 00:00:00-04:00  72.3000  70.255  70.52  5205271.0  ...  140.53   \n",
       "2018-08-14 00:00:00-04:00  71.7359  70.180  71.29  4233814.0  ...  140.30   \n",
       "2018-08-15 00:00:00-04:00  70.8100  68.445  69.31  7779210.0  ...  140.35   \n",
       "2018-08-16 00:00:00-04:00  69.9900  68.910  69.69  8359894.0  ...  140.75   \n",
       "2018-08-17 00:00:00-04:00  69.6700  68.330  69.14  4825534.0  ...  140.78   \n",
       "\n",
       "                                                                VG         \\\n",
       "                             high      low   close   volume   open   high   \n",
       "time                                                                        \n",
       "2018-08-13 00:00:00-04:00  141.24  139.830  140.20  3372702  13.71  13.80   \n",
       "2018-08-14 00:00:00-04:00  140.99  139.880  140.76  3860391  13.70  14.38   \n",
       "2018-08-15 00:00:00-04:00  140.69  138.840  139.92  3682605  14.37  14.50   \n",
       "2018-08-16 00:00:00-04:00  141.49  140.420  140.64  3688784  14.13  14.46   \n",
       "2018-08-17 00:00:00-04:00  141.71  140.565  141.38  3938667  14.23  14.59   \n",
       "\n",
       "                                                     \n",
       "                             low   close     volume  \n",
       "time                                                 \n",
       "2018-08-13 00:00:00-04:00  13.66  13.700   671607.0  \n",
       "2018-08-14 00:00:00-04:00  13.69  14.370  1916199.0  \n",
       "2018-08-15 00:00:00-04:00  14.09  14.125  1875413.0  \n",
       "2018-08-16 00:00:00-04:00  14.08  14.240   899309.0  \n",
       "2018-08-17 00:00:00-04:00  14.14  14.560  1050613.0  \n",
       "\n",
       "[5 rows x 75 columns]"
      ]
     },
     "execution_count": 24,
     "metadata": {},
     "output_type": "execute_result"
    }
   ],
   "source": [
    "competitors_list.head()"
   ]
  },
  {
   "cell_type": "code",
   "execution_count": 25,
   "id": "7dbb68be",
   "metadata": {},
   "outputs": [],
   "source": [
    "## saving competitors_portfolio to csv"
   ]
  },
  {
   "cell_type": "code",
   "execution_count": 26,
   "id": "41bec6a8",
   "metadata": {},
   "outputs": [],
   "source": [
    "competitors_list.to_csv(\"competitors_list.csv\")"
   ]
  },
  {
   "cell_type": "code",
   "execution_count": 27,
   "id": "277c8c46-ae51-48bc-854c-18a2061e8d45",
   "metadata": {},
   "outputs": [],
   "source": [
    "## Dictionary & weights "
   ]
  },
  {
   "cell_type": "code",
   "execution_count": 28,
   "id": "835a9ede-239b-4dce-ae35-dceafac8d8f0",
   "metadata": {},
   "outputs": [],
   "source": [
    "ARK_weight = {\n",
    "    \"TSLA\": .1016,\n",
    "    \"ROKU\": .0571,\n",
    "    \"TDOC\": .0570,\n",
    "    \"MSTR\": .010,\n",
    "    \"SQ\": .0463,\n",
    "    \"SHOP\": .0438,\n",
    "    \"TTWO\": .010,\n",
    "    \"TWLO\": .0368,\n",
    "    \"SPOT\": .0335,\n",
    "    \"NTLA\": .0301,\n",
    "    \"CRSP\": .0292,\n",
    "    \"EXAS\": .0281,\n",
    "    \"Z\": .0276,\n",
    "    \"TWTR\": .0242,\n",
    "    \"TER\": .010, \n",
    "}"
   ]
  },
  {
   "cell_type": "code",
   "execution_count": 29,
   "id": "1f8f5060-e6de-4e84-8cfe-a20a17f75496",
   "metadata": {},
   "outputs": [],
   "source": [
    "competitors_weight = {}"
   ]
  },
  {
   "cell_type": "code",
   "execution_count": 30,
   "id": "df6c6fbf-d477-4d0d-bb16-41460cd04bb0",
   "metadata": {},
   "outputs": [],
   "source": [
    "for ticker in ARK_weight:\n",
    "    competitors_weight [competitors_df [ARK_ETF.index(ticker)]] = ARK_weight[ticker]                "
   ]
  },
  {
   "cell_type": "code",
   "execution_count": 31,
   "id": "f0b69eb6-44a2-4a96-afa2-61a21be07d97",
   "metadata": {},
   "outputs": [
    {
     "name": "stdout",
     "output_type": "stream",
     "text": [
      "{'NIO': 0.1016, 'NFLX': 0.0571, 'PFE': 0.057, 'MSFT': 0.01, 'V': 0.0463, 'PYPL': 0.0438, 'CRM': 0.01, 'ATVI': 0.0368, 'VG': 0.0335, 'TTD': 0.0301, 'IONS': 0.0292, 'NVAX': 0.0281, 'AMGN': 0.0276, 'RDFN': 0.0242, 'SNAP': 0.01}\n"
     ]
    }
   ],
   "source": [
    "print(competitors_weight)"
   ]
  },
  {
   "cell_type": "code",
   "execution_count": null,
   "id": "2840c978-8414-4474-a506-bd32ae8e3c92",
   "metadata": {},
   "outputs": [],
   "source": []
  },
  {
   "cell_type": "code",
   "execution_count": null,
   "id": "f026245b-dfdd-4970-86b0-1f5c729e4674",
   "metadata": {},
   "outputs": [],
   "source": []
  }
 ],
 "metadata": {
  "kernelspec": {
   "display_name": "Python 3",
   "language": "python",
   "name": "python3"
  },
  "language_info": {
   "codemirror_mode": {
    "name": "ipython",
    "version": 3
   },
   "file_extension": ".py",
   "mimetype": "text/x-python",
   "name": "python",
   "nbconvert_exporter": "python",
   "pygments_lexer": "ipython3",
   "version": "3.8.8"
  }
 },
 "nbformat": 4,
 "nbformat_minor": 5
}
