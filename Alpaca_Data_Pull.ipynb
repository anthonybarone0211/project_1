{
 "cells": [
  {
   "cell_type": "markdown",
   "id": "2b5a5ff7",
   "metadata": {},
   "source": [
    "# Pull Alpaca API data for ARKK holdings"
   ]
  },
  {
   "cell_type": "code",
   "execution_count": 1,
   "id": "4507918a",
   "metadata": {},
   "outputs": [],
   "source": [
    "import os\n",
    "import requests\n",
    "import pandas as pd\n",
    "from dotenv import load_dotenv\n",
    "import alpaca_trade_api as tradeapi\n",
    "from datetime import datetime, timedelta\n",
    "import questionary"
   ]
  },
  {
   "cell_type": "code",
   "execution_count": 2,
   "id": "a3f24dea",
   "metadata": {},
   "outputs": [
    {
     "data": {
      "text/plain": [
       "True"
      ]
     },
     "execution_count": 2,
     "metadata": {},
     "output_type": "execute_result"
    }
   ],
   "source": [
    "load_dotenv()"
   ]
  },
  {
   "cell_type": "code",
   "execution_count": 3,
   "id": "ac83f305",
   "metadata": {},
   "outputs": [],
   "source": [
    "alpaca_api_key = os.getenv(\"ALPACA_API_KEY\")\n",
    "alpaca_secret_key = os.getenv(\"ALPACA_SECRET_KEY\")"
   ]
  },
  {
   "cell_type": "code",
   "execution_count": 4,
   "id": "599c12ab",
   "metadata": {},
   "outputs": [],
   "source": [
    "alpaca = tradeapi.REST(\n",
    "    alpaca_api_key,\n",
    "    alpaca_secret_key,\n",
    "    api_version=\"v2\")"
   ]
  },
  {
   "cell_type": "code",
   "execution_count": 5,
   "id": "4836f6ce",
   "metadata": {},
   "outputs": [
    {
     "name": "stdout",
     "output_type": "stream",
     "text": [
      "<alpaca_trade_api.rest.REST object at 0x000002863E8D8C88>\n"
     ]
    }
   ],
   "source": [
    "print(alpaca)"
   ]
  },
  {
   "cell_type": "markdown",
   "id": "ea3c42b2",
   "metadata": {},
   "source": [
    "## ARK ETF - Alpaca Data Pull"
   ]
  },
  {
   "cell_type": "code",
   "execution_count": 6,
   "id": "c07c11a6",
   "metadata": {},
   "outputs": [],
   "source": [
    "ARK_ETF = [\"TSLA\", \"ROKU\", \"TDOC\", \"MSTR\", \"SQ\", \"SHOP\", \"TTWO\", \"TWLO\", \"SPOT\", \"NTLA\", \"CRSP\", \"EXAS\", \"Z\", \"TWTR\", \"TER\",\"DOCU\",\"CGEN\"]"
   ]
  },
  {
   "cell_type": "code",
   "execution_count": 7,
   "id": "41e6db58",
   "metadata": {},
   "outputs": [],
   "source": [
    "timeframe = \"1D\""
   ]
  },
  {
   "cell_type": "code",
   "execution_count": 8,
   "id": "debc6d32",
   "metadata": {},
   "outputs": [],
   "source": [
    "start_date = pd.Timestamp(\"2018-09-01\", tz=\"America/New_York\").isoformat()\n",
    "end_date = pd.Timestamp(\"2021-08-01\", tz=\"America/New_York\").isoformat()"
   ]
  },
  {
   "cell_type": "code",
   "execution_count": 9,
   "id": "d2beeb7c",
   "metadata": {},
   "outputs": [],
   "source": [
    " ## This code artificially creates 3 years -- could replace code in line 8 --"
   ]
  },
  {
   "cell_type": "code",
   "execution_count": 10,
   "id": "31c99a4b",
   "metadata": {},
   "outputs": [],
   "source": [
    "# today = datetime.now()\n",
    "# startdate = today - timedelta(days=3*365)"
   ]
  },
  {
   "cell_type": "code",
   "execution_count": 11,
   "id": "73a12917",
   "metadata": {},
   "outputs": [],
   "source": [
    "# this is to convert the datetime format to the pd.Timestamp that alpaca api syntax requirement"
   ]
  },
  {
   "cell_type": "code",
   "execution_count": 12,
   "id": "b90db86b",
   "metadata": {},
   "outputs": [],
   "source": [
    "# end_date = pd.Timestamp(today.strftime(\"%Y-%m-%d\"), tz=\"America/New_York\").isoformat()\n",
    "# start_date = pd.Timestamp(startdate.strftime(\"%Y-%m-%d\"), tz=\"America/New_York\").isoformat()"
   ]
  },
  {
   "cell_type": "code",
   "execution_count": 13,
   "id": "7b0dc00e",
   "metadata": {},
   "outputs": [],
   "source": [
    "ARK_ETF_df = alpaca.get_barset(\n",
    "    ARK_ETF,\n",
    "    timeframe,\n",
    "    start = start_date,\n",
    "    end = end_date,\n",
    "    limit=1000\n",
    ").df"
   ]
  },
  {
   "cell_type": "code",
   "execution_count": 14,
   "id": "5ca40482",
   "metadata": {},
   "outputs": [
    {
     "data": {
      "text/html": [
       "<div>\n",
       "<style scoped>\n",
       "    .dataframe tbody tr th:only-of-type {\n",
       "        vertical-align: middle;\n",
       "    }\n",
       "\n",
       "    .dataframe tbody tr th {\n",
       "        vertical-align: top;\n",
       "    }\n",
       "\n",
       "    .dataframe thead tr th {\n",
       "        text-align: left;\n",
       "    }\n",
       "\n",
       "    .dataframe thead tr:last-of-type th {\n",
       "        text-align: right;\n",
       "    }\n",
       "</style>\n",
       "<table border=\"1\" class=\"dataframe\">\n",
       "  <thead>\n",
       "    <tr>\n",
       "      <th></th>\n",
       "      <th colspan=\"5\" halign=\"left\">CGEN</th>\n",
       "      <th colspan=\"5\" halign=\"left\">CRSP</th>\n",
       "      <th>...</th>\n",
       "      <th colspan=\"5\" halign=\"left\">TWTR</th>\n",
       "      <th colspan=\"5\" halign=\"left\">Z</th>\n",
       "    </tr>\n",
       "    <tr>\n",
       "      <th></th>\n",
       "      <th>open</th>\n",
       "      <th>high</th>\n",
       "      <th>low</th>\n",
       "      <th>close</th>\n",
       "      <th>volume</th>\n",
       "      <th>open</th>\n",
       "      <th>high</th>\n",
       "      <th>low</th>\n",
       "      <th>close</th>\n",
       "      <th>volume</th>\n",
       "      <th>...</th>\n",
       "      <th>open</th>\n",
       "      <th>high</th>\n",
       "      <th>low</th>\n",
       "      <th>close</th>\n",
       "      <th>volume</th>\n",
       "      <th>open</th>\n",
       "      <th>high</th>\n",
       "      <th>low</th>\n",
       "      <th>close</th>\n",
       "      <th>volume</th>\n",
       "    </tr>\n",
       "    <tr>\n",
       "      <th>time</th>\n",
       "      <th></th>\n",
       "      <th></th>\n",
       "      <th></th>\n",
       "      <th></th>\n",
       "      <th></th>\n",
       "      <th></th>\n",
       "      <th></th>\n",
       "      <th></th>\n",
       "      <th></th>\n",
       "      <th></th>\n",
       "      <th></th>\n",
       "      <th></th>\n",
       "      <th></th>\n",
       "      <th></th>\n",
       "      <th></th>\n",
       "      <th></th>\n",
       "      <th></th>\n",
       "      <th></th>\n",
       "      <th></th>\n",
       "      <th></th>\n",
       "      <th></th>\n",
       "    </tr>\n",
       "  </thead>\n",
       "  <tbody>\n",
       "    <tr>\n",
       "      <th>2018-09-04 00:00:00-04:00</th>\n",
       "      <td>3.90</td>\n",
       "      <td>4.00</td>\n",
       "      <td>3.75</td>\n",
       "      <td>3.90</td>\n",
       "      <td>117029</td>\n",
       "      <td>58.50</td>\n",
       "      <td>59.00</td>\n",
       "      <td>53.600</td>\n",
       "      <td>55.50</td>\n",
       "      <td>1032358</td>\n",
       "      <td>...</td>\n",
       "      <td>34.75</td>\n",
       "      <td>35.125</td>\n",
       "      <td>34.4800</td>\n",
       "      <td>34.84</td>\n",
       "      <td>12200652</td>\n",
       "      <td>48.55</td>\n",
       "      <td>48.900</td>\n",
       "      <td>47.56</td>\n",
       "      <td>47.72</td>\n",
       "      <td>1177704</td>\n",
       "    </tr>\n",
       "    <tr>\n",
       "      <th>2018-09-05 00:00:00-04:00</th>\n",
       "      <td>3.80</td>\n",
       "      <td>3.95</td>\n",
       "      <td>3.80</td>\n",
       "      <td>3.95</td>\n",
       "      <td>115535</td>\n",
       "      <td>55.50</td>\n",
       "      <td>55.50</td>\n",
       "      <td>52.005</td>\n",
       "      <td>53.44</td>\n",
       "      <td>606929</td>\n",
       "      <td>...</td>\n",
       "      <td>34.65</td>\n",
       "      <td>34.700</td>\n",
       "      <td>32.5100</td>\n",
       "      <td>32.73</td>\n",
       "      <td>32198973</td>\n",
       "      <td>47.82</td>\n",
       "      <td>48.270</td>\n",
       "      <td>46.91</td>\n",
       "      <td>47.67</td>\n",
       "      <td>1171127</td>\n",
       "    </tr>\n",
       "    <tr>\n",
       "      <th>2018-09-06 00:00:00-04:00</th>\n",
       "      <td>3.90</td>\n",
       "      <td>3.95</td>\n",
       "      <td>3.65</td>\n",
       "      <td>3.95</td>\n",
       "      <td>200494</td>\n",
       "      <td>53.17</td>\n",
       "      <td>53.72</td>\n",
       "      <td>49.580</td>\n",
       "      <td>49.84</td>\n",
       "      <td>558842</td>\n",
       "      <td>...</td>\n",
       "      <td>32.86</td>\n",
       "      <td>32.950</td>\n",
       "      <td>30.6200</td>\n",
       "      <td>30.82</td>\n",
       "      <td>33189835</td>\n",
       "      <td>47.68</td>\n",
       "      <td>47.980</td>\n",
       "      <td>43.87</td>\n",
       "      <td>44.62</td>\n",
       "      <td>2537771</td>\n",
       "    </tr>\n",
       "    <tr>\n",
       "      <th>2018-09-07 00:00:00-04:00</th>\n",
       "      <td>3.95</td>\n",
       "      <td>3.95</td>\n",
       "      <td>3.75</td>\n",
       "      <td>3.85</td>\n",
       "      <td>176952</td>\n",
       "      <td>50.00</td>\n",
       "      <td>51.73</td>\n",
       "      <td>49.360</td>\n",
       "      <td>50.12</td>\n",
       "      <td>431793</td>\n",
       "      <td>...</td>\n",
       "      <td>30.31</td>\n",
       "      <td>31.390</td>\n",
       "      <td>29.8200</td>\n",
       "      <td>30.49</td>\n",
       "      <td>28893185</td>\n",
       "      <td>44.58</td>\n",
       "      <td>46.115</td>\n",
       "      <td>44.52</td>\n",
       "      <td>44.93</td>\n",
       "      <td>1830479</td>\n",
       "    </tr>\n",
       "    <tr>\n",
       "      <th>2018-09-10 00:00:00-04:00</th>\n",
       "      <td>3.95</td>\n",
       "      <td>4.00</td>\n",
       "      <td>3.85</td>\n",
       "      <td>3.95</td>\n",
       "      <td>159873</td>\n",
       "      <td>50.66</td>\n",
       "      <td>50.85</td>\n",
       "      <td>47.500</td>\n",
       "      <td>49.67</td>\n",
       "      <td>1106214</td>\n",
       "      <td>...</td>\n",
       "      <td>30.50</td>\n",
       "      <td>30.600</td>\n",
       "      <td>29.9531</td>\n",
       "      <td>30.54</td>\n",
       "      <td>15451664</td>\n",
       "      <td>45.00</td>\n",
       "      <td>46.200</td>\n",
       "      <td>44.60</td>\n",
       "      <td>46.12</td>\n",
       "      <td>1103775</td>\n",
       "    </tr>\n",
       "  </tbody>\n",
       "</table>\n",
       "<p>5 rows × 85 columns</p>\n",
       "</div>"
      ],
      "text/plain": [
       "                           CGEN                             CRSP         \\\n",
       "                           open  high   low close  volume   open   high   \n",
       "time                                                                      \n",
       "2018-09-04 00:00:00-04:00  3.90  4.00  3.75  3.90  117029  58.50  59.00   \n",
       "2018-09-05 00:00:00-04:00  3.80  3.95  3.80  3.95  115535  55.50  55.50   \n",
       "2018-09-06 00:00:00-04:00  3.90  3.95  3.65  3.95  200494  53.17  53.72   \n",
       "2018-09-07 00:00:00-04:00  3.95  3.95  3.75  3.85  176952  50.00  51.73   \n",
       "2018-09-10 00:00:00-04:00  3.95  4.00  3.85  3.95  159873  50.66  50.85   \n",
       "\n",
       "                                                   ...   TWTR          \\\n",
       "                              low  close   volume  ...   open    high   \n",
       "time                                               ...                  \n",
       "2018-09-04 00:00:00-04:00  53.600  55.50  1032358  ...  34.75  35.125   \n",
       "2018-09-05 00:00:00-04:00  52.005  53.44   606929  ...  34.65  34.700   \n",
       "2018-09-06 00:00:00-04:00  49.580  49.84   558842  ...  32.86  32.950   \n",
       "2018-09-07 00:00:00-04:00  49.360  50.12   431793  ...  30.31  31.390   \n",
       "2018-09-10 00:00:00-04:00  47.500  49.67  1106214  ...  30.50  30.600   \n",
       "\n",
       "                                                         Z                 \\\n",
       "                               low  close    volume   open    high    low   \n",
       "time                                                                        \n",
       "2018-09-04 00:00:00-04:00  34.4800  34.84  12200652  48.55  48.900  47.56   \n",
       "2018-09-05 00:00:00-04:00  32.5100  32.73  32198973  47.82  48.270  46.91   \n",
       "2018-09-06 00:00:00-04:00  30.6200  30.82  33189835  47.68  47.980  43.87   \n",
       "2018-09-07 00:00:00-04:00  29.8200  30.49  28893185  44.58  46.115  44.52   \n",
       "2018-09-10 00:00:00-04:00  29.9531  30.54  15451664  45.00  46.200  44.60   \n",
       "\n",
       "                                           \n",
       "                           close   volume  \n",
       "time                                       \n",
       "2018-09-04 00:00:00-04:00  47.72  1177704  \n",
       "2018-09-05 00:00:00-04:00  47.67  1171127  \n",
       "2018-09-06 00:00:00-04:00  44.62  2537771  \n",
       "2018-09-07 00:00:00-04:00  44.93  1830479  \n",
       "2018-09-10 00:00:00-04:00  46.12  1103775  \n",
       "\n",
       "[5 rows x 85 columns]"
      ]
     },
     "execution_count": 14,
     "metadata": {},
     "output_type": "execute_result"
    }
   ],
   "source": [
    "ARK_ETF_df.head()"
   ]
  },
  {
   "cell_type": "code",
   "execution_count": 15,
   "id": "d259e216",
   "metadata": {},
   "outputs": [],
   "source": [
    "## saving ARK_ETF_portfolio to csv"
   ]
  },
  {
   "cell_type": "code",
   "execution_count": 16,
   "id": "50a9f9ca",
   "metadata": {},
   "outputs": [],
   "source": [
    "# ARK_ETF_df.to_csv(\"Ark_ETF.csv\")"
   ]
  },
  {
   "cell_type": "markdown",
   "id": "dcc5915c",
   "metadata": {},
   "source": [
    "### Competitors - Alpaca Data Pull"
   ]
  },
  {
   "cell_type": "code",
   "execution_count": 17,
   "id": "80c2568a",
   "metadata": {},
   "outputs": [],
   "source": [
    "competitors_list = [\"NIO\", \"NFLX\", \"PFE\", \"MSFT\", \"V\", \"PYPL\", \"CRM\", \"ATVI\", \"VG\", \"TTD\", \"IONS\", \"NVAX\", \"AMGN\", \"RDFN\", \"SNAP\"]"
   ]
  },
  {
   "cell_type": "code",
   "execution_count": 18,
   "id": "f06b07eb",
   "metadata": {},
   "outputs": [],
   "source": [
    "timeframe = \"1D\""
   ]
  },
  {
   "cell_type": "code",
   "execution_count": 19,
   "id": "7ec12262",
   "metadata": {},
   "outputs": [],
   "source": [
    "start_date = pd.Timestamp(\"2018-09-01\", tz=\"America/New_York\").isoformat()\n",
    "end_date = pd.Timestamp(\"2021-08-01\", tz=\"America/New_York\").isoformat()"
   ]
  },
  {
   "cell_type": "code",
   "execution_count": 20,
   "id": "807916fb",
   "metadata": {},
   "outputs": [],
   "source": [
    " ## This code artificially creates 3 years -- could replace code in line 16 --"
   ]
  },
  {
   "cell_type": "code",
   "execution_count": 21,
   "id": "96d2f45c",
   "metadata": {},
   "outputs": [],
   "source": [
    "today = datetime.now()\n",
    "startdate = today - timedelta(days=3*365)"
   ]
  },
  {
   "cell_type": "code",
   "execution_count": 22,
   "id": "61a67e84",
   "metadata": {},
   "outputs": [],
   "source": [
    "end_date = pd.Timestamp(today.strftime(\"%Y-%m-%d\"), tz=\"America/New_York\").isoformat()\n",
    "start_date = pd.Timestamp(startdate.strftime(\"%Y-%m-%d\"), tz=\"America/New_York\").isoformat()"
   ]
  },
  {
   "cell_type": "code",
   "execution_count": 23,
   "id": "eebfef6b",
   "metadata": {},
   "outputs": [],
   "source": [
    "competitors_df = alpaca.get_barset(\n",
    "    competitors_list,\n",
    "    timeframe,\n",
    "    start = start_date,\n",
    "    end = end_date,\n",
    "    limit=1000\n",
    ").df"
   ]
  },
  {
   "cell_type": "code",
   "execution_count": 24,
   "id": "29bb9c51",
   "metadata": {},
   "outputs": [
    {
     "data": {
      "text/html": [
       "<div>\n",
       "<style scoped>\n",
       "    .dataframe tbody tr th:only-of-type {\n",
       "        vertical-align: middle;\n",
       "    }\n",
       "\n",
       "    .dataframe tbody tr th {\n",
       "        vertical-align: top;\n",
       "    }\n",
       "\n",
       "    .dataframe thead tr th {\n",
       "        text-align: left;\n",
       "    }\n",
       "\n",
       "    .dataframe thead tr:last-of-type th {\n",
       "        text-align: right;\n",
       "    }\n",
       "</style>\n",
       "<table border=\"1\" class=\"dataframe\">\n",
       "  <thead>\n",
       "    <tr>\n",
       "      <th></th>\n",
       "      <th colspan=\"5\" halign=\"left\">AMGN</th>\n",
       "      <th colspan=\"5\" halign=\"left\">ATVI</th>\n",
       "      <th>...</th>\n",
       "      <th colspan=\"5\" halign=\"left\">V</th>\n",
       "      <th colspan=\"5\" halign=\"left\">VG</th>\n",
       "    </tr>\n",
       "    <tr>\n",
       "      <th></th>\n",
       "      <th>open</th>\n",
       "      <th>high</th>\n",
       "      <th>low</th>\n",
       "      <th>close</th>\n",
       "      <th>volume</th>\n",
       "      <th>open</th>\n",
       "      <th>high</th>\n",
       "      <th>low</th>\n",
       "      <th>close</th>\n",
       "      <th>volume</th>\n",
       "      <th>...</th>\n",
       "      <th>open</th>\n",
       "      <th>high</th>\n",
       "      <th>low</th>\n",
       "      <th>close</th>\n",
       "      <th>volume</th>\n",
       "      <th>open</th>\n",
       "      <th>high</th>\n",
       "      <th>low</th>\n",
       "      <th>close</th>\n",
       "      <th>volume</th>\n",
       "    </tr>\n",
       "    <tr>\n",
       "      <th>time</th>\n",
       "      <th></th>\n",
       "      <th></th>\n",
       "      <th></th>\n",
       "      <th></th>\n",
       "      <th></th>\n",
       "      <th></th>\n",
       "      <th></th>\n",
       "      <th></th>\n",
       "      <th></th>\n",
       "      <th></th>\n",
       "      <th></th>\n",
       "      <th></th>\n",
       "      <th></th>\n",
       "      <th></th>\n",
       "      <th></th>\n",
       "      <th></th>\n",
       "      <th></th>\n",
       "      <th></th>\n",
       "      <th></th>\n",
       "      <th></th>\n",
       "      <th></th>\n",
       "    </tr>\n",
       "  </thead>\n",
       "  <tbody>\n",
       "    <tr>\n",
       "      <th>2018-08-16 00:00:00-04:00</th>\n",
       "      <td>194.46</td>\n",
       "      <td>197.13</td>\n",
       "      <td>192.7300</td>\n",
       "      <td>196.48</td>\n",
       "      <td>2041279</td>\n",
       "      <td>69.68</td>\n",
       "      <td>69.99</td>\n",
       "      <td>68.9100</td>\n",
       "      <td>69.69</td>\n",
       "      <td>8359894</td>\n",
       "      <td>...</td>\n",
       "      <td>140.75</td>\n",
       "      <td>141.4900</td>\n",
       "      <td>140.420</td>\n",
       "      <td>140.64</td>\n",
       "      <td>3688784</td>\n",
       "      <td>14.13</td>\n",
       "      <td>14.4600</td>\n",
       "      <td>14.08</td>\n",
       "      <td>14.240</td>\n",
       "      <td>899309.0</td>\n",
       "    </tr>\n",
       "    <tr>\n",
       "      <th>2018-08-17 00:00:00-04:00</th>\n",
       "      <td>196.24</td>\n",
       "      <td>198.51</td>\n",
       "      <td>195.2800</td>\n",
       "      <td>197.42</td>\n",
       "      <td>1750815</td>\n",
       "      <td>69.51</td>\n",
       "      <td>69.67</td>\n",
       "      <td>68.3300</td>\n",
       "      <td>69.14</td>\n",
       "      <td>4825534</td>\n",
       "      <td>...</td>\n",
       "      <td>140.78</td>\n",
       "      <td>141.7100</td>\n",
       "      <td>140.565</td>\n",
       "      <td>141.38</td>\n",
       "      <td>3938667</td>\n",
       "      <td>14.23</td>\n",
       "      <td>14.5900</td>\n",
       "      <td>14.14</td>\n",
       "      <td>14.560</td>\n",
       "      <td>1050613.0</td>\n",
       "    </tr>\n",
       "    <tr>\n",
       "      <th>2018-08-20 00:00:00-04:00</th>\n",
       "      <td>197.89</td>\n",
       "      <td>198.50</td>\n",
       "      <td>196.8700</td>\n",
       "      <td>197.54</td>\n",
       "      <td>1200772</td>\n",
       "      <td>69.21</td>\n",
       "      <td>69.39</td>\n",
       "      <td>68.2200</td>\n",
       "      <td>68.94</td>\n",
       "      <td>3761930</td>\n",
       "      <td>...</td>\n",
       "      <td>141.54</td>\n",
       "      <td>141.6000</td>\n",
       "      <td>140.700</td>\n",
       "      <td>140.94</td>\n",
       "      <td>2815641</td>\n",
       "      <td>14.57</td>\n",
       "      <td>14.6115</td>\n",
       "      <td>14.30</td>\n",
       "      <td>14.485</td>\n",
       "      <td>598652.0</td>\n",
       "    </tr>\n",
       "    <tr>\n",
       "      <th>2018-08-21 00:00:00-04:00</th>\n",
       "      <td>197.93</td>\n",
       "      <td>198.40</td>\n",
       "      <td>196.7300</td>\n",
       "      <td>197.32</td>\n",
       "      <td>1212006</td>\n",
       "      <td>69.27</td>\n",
       "      <td>70.26</td>\n",
       "      <td>69.0400</td>\n",
       "      <td>69.67</td>\n",
       "      <td>4748136</td>\n",
       "      <td>...</td>\n",
       "      <td>141.00</td>\n",
       "      <td>141.4574</td>\n",
       "      <td>139.800</td>\n",
       "      <td>140.02</td>\n",
       "      <td>3455094</td>\n",
       "      <td>14.53</td>\n",
       "      <td>14.5500</td>\n",
       "      <td>14.30</td>\n",
       "      <td>14.300</td>\n",
       "      <td>942216.0</td>\n",
       "    </tr>\n",
       "    <tr>\n",
       "      <th>2018-08-22 00:00:00-04:00</th>\n",
       "      <td>197.15</td>\n",
       "      <td>198.75</td>\n",
       "      <td>195.8337</td>\n",
       "      <td>197.86</td>\n",
       "      <td>1452849</td>\n",
       "      <td>69.58</td>\n",
       "      <td>71.52</td>\n",
       "      <td>69.5001</td>\n",
       "      <td>71.43</td>\n",
       "      <td>7029012</td>\n",
       "      <td>...</td>\n",
       "      <td>139.85</td>\n",
       "      <td>141.5300</td>\n",
       "      <td>139.850</td>\n",
       "      <td>141.15</td>\n",
       "      <td>2981091</td>\n",
       "      <td>14.27</td>\n",
       "      <td>14.4100</td>\n",
       "      <td>14.14</td>\n",
       "      <td>14.340</td>\n",
       "      <td>743927.0</td>\n",
       "    </tr>\n",
       "  </tbody>\n",
       "</table>\n",
       "<p>5 rows × 75 columns</p>\n",
       "</div>"
      ],
      "text/plain": [
       "                             AMGN                                      ATVI  \\\n",
       "                             open    high       low   close   volume   open   \n",
       "time                                                                          \n",
       "2018-08-16 00:00:00-04:00  194.46  197.13  192.7300  196.48  2041279  69.68   \n",
       "2018-08-17 00:00:00-04:00  196.24  198.51  195.2800  197.42  1750815  69.51   \n",
       "2018-08-20 00:00:00-04:00  197.89  198.50  196.8700  197.54  1200772  69.21   \n",
       "2018-08-21 00:00:00-04:00  197.93  198.40  196.7300  197.32  1212006  69.27   \n",
       "2018-08-22 00:00:00-04:00  197.15  198.75  195.8337  197.86  1452849  69.58   \n",
       "\n",
       "                                                           ...       V  \\\n",
       "                            high      low  close   volume  ...    open   \n",
       "time                                                       ...           \n",
       "2018-08-16 00:00:00-04:00  69.99  68.9100  69.69  8359894  ...  140.75   \n",
       "2018-08-17 00:00:00-04:00  69.67  68.3300  69.14  4825534  ...  140.78   \n",
       "2018-08-20 00:00:00-04:00  69.39  68.2200  68.94  3761930  ...  141.54   \n",
       "2018-08-21 00:00:00-04:00  70.26  69.0400  69.67  4748136  ...  141.00   \n",
       "2018-08-22 00:00:00-04:00  71.52  69.5001  71.43  7029012  ...  139.85   \n",
       "\n",
       "                                                                  VG           \\\n",
       "                               high      low   close   volume   open     high   \n",
       "time                                                                            \n",
       "2018-08-16 00:00:00-04:00  141.4900  140.420  140.64  3688784  14.13  14.4600   \n",
       "2018-08-17 00:00:00-04:00  141.7100  140.565  141.38  3938667  14.23  14.5900   \n",
       "2018-08-20 00:00:00-04:00  141.6000  140.700  140.94  2815641  14.57  14.6115   \n",
       "2018-08-21 00:00:00-04:00  141.4574  139.800  140.02  3455094  14.53  14.5500   \n",
       "2018-08-22 00:00:00-04:00  141.5300  139.850  141.15  2981091  14.27  14.4100   \n",
       "\n",
       "                                                     \n",
       "                             low   close     volume  \n",
       "time                                                 \n",
       "2018-08-16 00:00:00-04:00  14.08  14.240   899309.0  \n",
       "2018-08-17 00:00:00-04:00  14.14  14.560  1050613.0  \n",
       "2018-08-20 00:00:00-04:00  14.30  14.485   598652.0  \n",
       "2018-08-21 00:00:00-04:00  14.30  14.300   942216.0  \n",
       "2018-08-22 00:00:00-04:00  14.14  14.340   743927.0  \n",
       "\n",
       "[5 rows x 75 columns]"
      ]
     },
     "execution_count": 24,
     "metadata": {},
     "output_type": "execute_result"
    }
   ],
   "source": [
    "competitors_df.head()"
   ]
  },
  {
   "cell_type": "code",
   "execution_count": 25,
   "id": "569c63cc",
   "metadata": {},
   "outputs": [],
   "source": [
    "## saving competitors_portfolio to csv"
   ]
  },
  {
   "cell_type": "code",
   "execution_count": 26,
   "id": "3f122a28",
   "metadata": {},
   "outputs": [],
   "source": [
    "# competitors_list.to_csv(\"competitors_list.csv\")"
   ]
  },
  {
   "cell_type": "code",
   "execution_count": 27,
   "id": "fe9c2c17",
   "metadata": {},
   "outputs": [],
   "source": [
    "## Dictionary & weights "
   ]
  },
  {
   "cell_type": "code",
   "execution_count": null,
   "id": "a1849552",
   "metadata": {},
   "outputs": [],
   "source": []
  },
  {
   "cell_type": "code",
   "execution_count": 28,
   "id": "4de1e445",
   "metadata": {},
   "outputs": [],
   "source": [
    "ARK_weight = {\n",
    "    \"TSLA\": 0.17,\n",
    "    \"ROKU\": 0.08,\n",
    "    \"TDOC\": 0.057,\n",
    "    \"MSTR\": 0.11,\n",
    "    \"SQ\": 0.057,\n",
    "    \"SHOP\": 0.043,\n",
    "    \"TTWO\": 0.04,\n",
    "    \"TWLO\": 0.0368,\n",
    "    \"SPOT\": 0.0535,\n",
    "    \"NTLA\": 0.0301,\n",
    "    \"CRSP\": 0.0526,\n",
    "    \"EXAS\": 0.048,\n",
    "    \"Z\": 0.052,\n",
    "    \"TWTR\": 0.043,\n",
    "    \"TER\": 0.02,\n",
    "    \"DOCU\": 0.082,\n",
    "    \"CGEN\": 0.025\n",
    "}"
   ]
  },
  {
   "cell_type": "code",
   "execution_count": 29,
   "id": "2713f42e",
   "metadata": {},
   "outputs": [],
   "source": [
    "competitors_weight = {}"
   ]
  },
  {
   "cell_type": "code",
   "execution_count": 30,
   "id": "10453431",
   "metadata": {},
   "outputs": [
    {
     "ename": "KeyError",
     "evalue": "0",
     "output_type": "error",
     "traceback": [
      "\u001b[1;31m---------------------------------------------------------------------------\u001b[0m",
      "\u001b[1;31mKeyError\u001b[0m                                  Traceback (most recent call last)",
      "\u001b[1;32m~\\anaconda3\\envs\\atmdev\\lib\\site-packages\\pandas\\core\\indexes\\base.py\u001b[0m in \u001b[0;36mget_loc\u001b[1;34m(self, key, method, tolerance)\u001b[0m\n\u001b[0;32m   3079\u001b[0m             \u001b[1;32mtry\u001b[0m\u001b[1;33m:\u001b[0m\u001b[1;33m\u001b[0m\u001b[1;33m\u001b[0m\u001b[0m\n\u001b[1;32m-> 3080\u001b[1;33m                 \u001b[1;32mreturn\u001b[0m \u001b[0mself\u001b[0m\u001b[1;33m.\u001b[0m\u001b[0m_engine\u001b[0m\u001b[1;33m.\u001b[0m\u001b[0mget_loc\u001b[0m\u001b[1;33m(\u001b[0m\u001b[0mcasted_key\u001b[0m\u001b[1;33m)\u001b[0m\u001b[1;33m\u001b[0m\u001b[1;33m\u001b[0m\u001b[0m\n\u001b[0m\u001b[0;32m   3081\u001b[0m             \u001b[1;32mexcept\u001b[0m \u001b[0mKeyError\u001b[0m \u001b[1;32mas\u001b[0m \u001b[0merr\u001b[0m\u001b[1;33m:\u001b[0m\u001b[1;33m\u001b[0m\u001b[1;33m\u001b[0m\u001b[0m\n",
      "\u001b[1;32mpandas\\_libs\\index.pyx\u001b[0m in \u001b[0;36mpandas._libs.index.IndexEngine.get_loc\u001b[1;34m()\u001b[0m\n",
      "\u001b[1;32mpandas\\_libs\\index.pyx\u001b[0m in \u001b[0;36mpandas._libs.index.IndexEngine.get_loc\u001b[1;34m()\u001b[0m\n",
      "\u001b[1;32mpandas\\_libs\\hashtable_class_helper.pxi\u001b[0m in \u001b[0;36mpandas._libs.hashtable.PyObjectHashTable.get_item\u001b[1;34m()\u001b[0m\n",
      "\u001b[1;32mpandas\\_libs\\hashtable_class_helper.pxi\u001b[0m in \u001b[0;36mpandas._libs.hashtable.PyObjectHashTable.get_item\u001b[1;34m()\u001b[0m\n",
      "\u001b[1;31mKeyError\u001b[0m: 0",
      "\nThe above exception was the direct cause of the following exception:\n",
      "\u001b[1;31mKeyError\u001b[0m                                  Traceback (most recent call last)",
      "\u001b[1;32m<ipython-input-30-1d45639a007f>\u001b[0m in \u001b[0;36m<module>\u001b[1;34m\u001b[0m\n\u001b[0;32m      1\u001b[0m \u001b[1;32mfor\u001b[0m \u001b[0mticker\u001b[0m \u001b[1;32min\u001b[0m \u001b[0mARK_weight\u001b[0m\u001b[1;33m:\u001b[0m\u001b[1;33m\u001b[0m\u001b[1;33m\u001b[0m\u001b[0m\n\u001b[1;32m----> 2\u001b[1;33m     \u001b[0mcompetitors_weight\u001b[0m \u001b[1;33m[\u001b[0m\u001b[0mcompetitors_df\u001b[0m \u001b[1;33m[\u001b[0m\u001b[0mARK_ETF\u001b[0m\u001b[1;33m.\u001b[0m\u001b[0mindex\u001b[0m\u001b[1;33m(\u001b[0m\u001b[0mticker\u001b[0m\u001b[1;33m)\u001b[0m\u001b[1;33m]\u001b[0m\u001b[1;33m]\u001b[0m \u001b[1;33m=\u001b[0m \u001b[0mARK_weight\u001b[0m\u001b[1;33m[\u001b[0m\u001b[0mticker\u001b[0m\u001b[1;33m]\u001b[0m\u001b[1;33m\u001b[0m\u001b[1;33m\u001b[0m\u001b[0m\n\u001b[0m",
      "\u001b[1;32m~\\anaconda3\\envs\\atmdev\\lib\\site-packages\\pandas\\core\\frame.py\u001b[0m in \u001b[0;36m__getitem__\u001b[1;34m(self, key)\u001b[0m\n\u001b[0;32m   3021\u001b[0m         \u001b[1;32mif\u001b[0m \u001b[0mis_single_key\u001b[0m\u001b[1;33m:\u001b[0m\u001b[1;33m\u001b[0m\u001b[1;33m\u001b[0m\u001b[0m\n\u001b[0;32m   3022\u001b[0m             \u001b[1;32mif\u001b[0m \u001b[0mself\u001b[0m\u001b[1;33m.\u001b[0m\u001b[0mcolumns\u001b[0m\u001b[1;33m.\u001b[0m\u001b[0mnlevels\u001b[0m \u001b[1;33m>\u001b[0m \u001b[1;36m1\u001b[0m\u001b[1;33m:\u001b[0m\u001b[1;33m\u001b[0m\u001b[1;33m\u001b[0m\u001b[0m\n\u001b[1;32m-> 3023\u001b[1;33m                 \u001b[1;32mreturn\u001b[0m \u001b[0mself\u001b[0m\u001b[1;33m.\u001b[0m\u001b[0m_getitem_multilevel\u001b[0m\u001b[1;33m(\u001b[0m\u001b[0mkey\u001b[0m\u001b[1;33m)\u001b[0m\u001b[1;33m\u001b[0m\u001b[1;33m\u001b[0m\u001b[0m\n\u001b[0m\u001b[0;32m   3024\u001b[0m             \u001b[0mindexer\u001b[0m \u001b[1;33m=\u001b[0m \u001b[0mself\u001b[0m\u001b[1;33m.\u001b[0m\u001b[0mcolumns\u001b[0m\u001b[1;33m.\u001b[0m\u001b[0mget_loc\u001b[0m\u001b[1;33m(\u001b[0m\u001b[0mkey\u001b[0m\u001b[1;33m)\u001b[0m\u001b[1;33m\u001b[0m\u001b[1;33m\u001b[0m\u001b[0m\n\u001b[0;32m   3025\u001b[0m             \u001b[1;32mif\u001b[0m \u001b[0mis_integer\u001b[0m\u001b[1;33m(\u001b[0m\u001b[0mindexer\u001b[0m\u001b[1;33m)\u001b[0m\u001b[1;33m:\u001b[0m\u001b[1;33m\u001b[0m\u001b[1;33m\u001b[0m\u001b[0m\n",
      "\u001b[1;32m~\\anaconda3\\envs\\atmdev\\lib\\site-packages\\pandas\\core\\frame.py\u001b[0m in \u001b[0;36m_getitem_multilevel\u001b[1;34m(self, key)\u001b[0m\n\u001b[0;32m   3072\u001b[0m     \u001b[1;32mdef\u001b[0m \u001b[0m_getitem_multilevel\u001b[0m\u001b[1;33m(\u001b[0m\u001b[0mself\u001b[0m\u001b[1;33m,\u001b[0m \u001b[0mkey\u001b[0m\u001b[1;33m)\u001b[0m\u001b[1;33m:\u001b[0m\u001b[1;33m\u001b[0m\u001b[1;33m\u001b[0m\u001b[0m\n\u001b[0;32m   3073\u001b[0m         \u001b[1;31m# self.columns is a MultiIndex\u001b[0m\u001b[1;33m\u001b[0m\u001b[1;33m\u001b[0m\u001b[1;33m\u001b[0m\u001b[0m\n\u001b[1;32m-> 3074\u001b[1;33m         \u001b[0mloc\u001b[0m \u001b[1;33m=\u001b[0m \u001b[0mself\u001b[0m\u001b[1;33m.\u001b[0m\u001b[0mcolumns\u001b[0m\u001b[1;33m.\u001b[0m\u001b[0mget_loc\u001b[0m\u001b[1;33m(\u001b[0m\u001b[0mkey\u001b[0m\u001b[1;33m)\u001b[0m\u001b[1;33m\u001b[0m\u001b[1;33m\u001b[0m\u001b[0m\n\u001b[0m\u001b[0;32m   3075\u001b[0m         \u001b[1;32mif\u001b[0m \u001b[0misinstance\u001b[0m\u001b[1;33m(\u001b[0m\u001b[0mloc\u001b[0m\u001b[1;33m,\u001b[0m \u001b[1;33m(\u001b[0m\u001b[0mslice\u001b[0m\u001b[1;33m,\u001b[0m \u001b[0mnp\u001b[0m\u001b[1;33m.\u001b[0m\u001b[0mndarray\u001b[0m\u001b[1;33m)\u001b[0m\u001b[1;33m)\u001b[0m\u001b[1;33m:\u001b[0m\u001b[1;33m\u001b[0m\u001b[1;33m\u001b[0m\u001b[0m\n\u001b[0;32m   3076\u001b[0m             \u001b[0mnew_columns\u001b[0m \u001b[1;33m=\u001b[0m \u001b[0mself\u001b[0m\u001b[1;33m.\u001b[0m\u001b[0mcolumns\u001b[0m\u001b[1;33m[\u001b[0m\u001b[0mloc\u001b[0m\u001b[1;33m]\u001b[0m\u001b[1;33m\u001b[0m\u001b[1;33m\u001b[0m\u001b[0m\n",
      "\u001b[1;32m~\\anaconda3\\envs\\atmdev\\lib\\site-packages\\pandas\\core\\indexes\\multi.py\u001b[0m in \u001b[0;36mget_loc\u001b[1;34m(self, key, method)\u001b[0m\n\u001b[0;32m   2874\u001b[0m \u001b[1;33m\u001b[0m\u001b[0m\n\u001b[0;32m   2875\u001b[0m         \u001b[1;32mif\u001b[0m \u001b[1;32mnot\u001b[0m \u001b[0misinstance\u001b[0m\u001b[1;33m(\u001b[0m\u001b[0mkey\u001b[0m\u001b[1;33m,\u001b[0m \u001b[0mtuple\u001b[0m\u001b[1;33m)\u001b[0m\u001b[1;33m:\u001b[0m\u001b[1;33m\u001b[0m\u001b[1;33m\u001b[0m\u001b[0m\n\u001b[1;32m-> 2876\u001b[1;33m             \u001b[0mloc\u001b[0m \u001b[1;33m=\u001b[0m \u001b[0mself\u001b[0m\u001b[1;33m.\u001b[0m\u001b[0m_get_level_indexer\u001b[0m\u001b[1;33m(\u001b[0m\u001b[0mkey\u001b[0m\u001b[1;33m,\u001b[0m \u001b[0mlevel\u001b[0m\u001b[1;33m=\u001b[0m\u001b[1;36m0\u001b[0m\u001b[1;33m)\u001b[0m\u001b[1;33m\u001b[0m\u001b[1;33m\u001b[0m\u001b[0m\n\u001b[0m\u001b[0;32m   2877\u001b[0m             \u001b[1;32mreturn\u001b[0m \u001b[0m_maybe_to_slice\u001b[0m\u001b[1;33m(\u001b[0m\u001b[0mloc\u001b[0m\u001b[1;33m)\u001b[0m\u001b[1;33m\u001b[0m\u001b[1;33m\u001b[0m\u001b[0m\n\u001b[0;32m   2878\u001b[0m \u001b[1;33m\u001b[0m\u001b[0m\n",
      "\u001b[1;32m~\\anaconda3\\envs\\atmdev\\lib\\site-packages\\pandas\\core\\indexes\\multi.py\u001b[0m in \u001b[0;36m_get_level_indexer\u001b[1;34m(self, key, level, indexer)\u001b[0m\n\u001b[0;32m   3156\u001b[0m         \u001b[1;32melse\u001b[0m\u001b[1;33m:\u001b[0m\u001b[1;33m\u001b[0m\u001b[1;33m\u001b[0m\u001b[0m\n\u001b[0;32m   3157\u001b[0m \u001b[1;33m\u001b[0m\u001b[0m\n\u001b[1;32m-> 3158\u001b[1;33m             \u001b[0midx\u001b[0m \u001b[1;33m=\u001b[0m \u001b[0mself\u001b[0m\u001b[1;33m.\u001b[0m\u001b[0m_get_loc_single_level_index\u001b[0m\u001b[1;33m(\u001b[0m\u001b[0mlevel_index\u001b[0m\u001b[1;33m,\u001b[0m \u001b[0mkey\u001b[0m\u001b[1;33m)\u001b[0m\u001b[1;33m\u001b[0m\u001b[1;33m\u001b[0m\u001b[0m\n\u001b[0m\u001b[0;32m   3159\u001b[0m \u001b[1;33m\u001b[0m\u001b[0m\n\u001b[0;32m   3160\u001b[0m             \u001b[1;32mif\u001b[0m \u001b[0mlevel\u001b[0m \u001b[1;33m>\u001b[0m \u001b[1;36m0\u001b[0m \u001b[1;32mor\u001b[0m \u001b[0mself\u001b[0m\u001b[1;33m.\u001b[0m\u001b[0mlexsort_depth\u001b[0m \u001b[1;33m==\u001b[0m \u001b[1;36m0\u001b[0m\u001b[1;33m:\u001b[0m\u001b[1;33m\u001b[0m\u001b[1;33m\u001b[0m\u001b[0m\n",
      "\u001b[1;32m~\\anaconda3\\envs\\atmdev\\lib\\site-packages\\pandas\\core\\indexes\\multi.py\u001b[0m in \u001b[0;36m_get_loc_single_level_index\u001b[1;34m(self, level_index, key)\u001b[0m\n\u001b[0;32m   2807\u001b[0m             \u001b[1;32mreturn\u001b[0m \u001b[1;33m-\u001b[0m\u001b[1;36m1\u001b[0m\u001b[1;33m\u001b[0m\u001b[1;33m\u001b[0m\u001b[0m\n\u001b[0;32m   2808\u001b[0m         \u001b[1;32melse\u001b[0m\u001b[1;33m:\u001b[0m\u001b[1;33m\u001b[0m\u001b[1;33m\u001b[0m\u001b[0m\n\u001b[1;32m-> 2809\u001b[1;33m             \u001b[1;32mreturn\u001b[0m \u001b[0mlevel_index\u001b[0m\u001b[1;33m.\u001b[0m\u001b[0mget_loc\u001b[0m\u001b[1;33m(\u001b[0m\u001b[0mkey\u001b[0m\u001b[1;33m)\u001b[0m\u001b[1;33m\u001b[0m\u001b[1;33m\u001b[0m\u001b[0m\n\u001b[0m\u001b[0;32m   2810\u001b[0m \u001b[1;33m\u001b[0m\u001b[0m\n\u001b[0;32m   2811\u001b[0m     \u001b[1;32mdef\u001b[0m \u001b[0mget_loc\u001b[0m\u001b[1;33m(\u001b[0m\u001b[0mself\u001b[0m\u001b[1;33m,\u001b[0m \u001b[0mkey\u001b[0m\u001b[1;33m,\u001b[0m \u001b[0mmethod\u001b[0m\u001b[1;33m=\u001b[0m\u001b[1;32mNone\u001b[0m\u001b[1;33m)\u001b[0m\u001b[1;33m:\u001b[0m\u001b[1;33m\u001b[0m\u001b[1;33m\u001b[0m\u001b[0m\n",
      "\u001b[1;32m~\\anaconda3\\envs\\atmdev\\lib\\site-packages\\pandas\\core\\indexes\\base.py\u001b[0m in \u001b[0;36mget_loc\u001b[1;34m(self, key, method, tolerance)\u001b[0m\n\u001b[0;32m   3080\u001b[0m                 \u001b[1;32mreturn\u001b[0m \u001b[0mself\u001b[0m\u001b[1;33m.\u001b[0m\u001b[0m_engine\u001b[0m\u001b[1;33m.\u001b[0m\u001b[0mget_loc\u001b[0m\u001b[1;33m(\u001b[0m\u001b[0mcasted_key\u001b[0m\u001b[1;33m)\u001b[0m\u001b[1;33m\u001b[0m\u001b[1;33m\u001b[0m\u001b[0m\n\u001b[0;32m   3081\u001b[0m             \u001b[1;32mexcept\u001b[0m \u001b[0mKeyError\u001b[0m \u001b[1;32mas\u001b[0m \u001b[0merr\u001b[0m\u001b[1;33m:\u001b[0m\u001b[1;33m\u001b[0m\u001b[1;33m\u001b[0m\u001b[0m\n\u001b[1;32m-> 3082\u001b[1;33m                 \u001b[1;32mraise\u001b[0m \u001b[0mKeyError\u001b[0m\u001b[1;33m(\u001b[0m\u001b[0mkey\u001b[0m\u001b[1;33m)\u001b[0m \u001b[1;32mfrom\u001b[0m \u001b[0merr\u001b[0m\u001b[1;33m\u001b[0m\u001b[1;33m\u001b[0m\u001b[0m\n\u001b[0m\u001b[0;32m   3083\u001b[0m \u001b[1;33m\u001b[0m\u001b[0m\n\u001b[0;32m   3084\u001b[0m         \u001b[1;32mif\u001b[0m \u001b[0mtolerance\u001b[0m \u001b[1;32mis\u001b[0m \u001b[1;32mnot\u001b[0m \u001b[1;32mNone\u001b[0m\u001b[1;33m:\u001b[0m\u001b[1;33m\u001b[0m\u001b[1;33m\u001b[0m\u001b[0m\n",
      "\u001b[1;31mKeyError\u001b[0m: 0"
     ]
    }
   ],
   "source": [
    "for ticker in ARK_weight:\n",
    "    competitors_weight [competitors_df [ARK_ETF.index(ticker)]] = ARK_weight[ticker]                "
   ]
  },
  {
   "cell_type": "code",
   "execution_count": null,
   "id": "23fc9693",
   "metadata": {},
   "outputs": [],
   "source": [
    "print(competitors_weight)"
   ]
  },
  {
   "cell_type": "code",
   "execution_count": null,
   "id": "5bfc4841",
   "metadata": {},
   "outputs": [],
   "source": []
  },
  {
   "cell_type": "code",
   "execution_count": null,
   "id": "ba8ebd21",
   "metadata": {},
   "outputs": [],
   "source": []
  }
 ],
 "metadata": {
  "kernelspec": {
   "display_name": "Python 3",
   "language": "python",
   "name": "python3"
  },
  "language_info": {
   "codemirror_mode": {
    "name": "ipython",
    "version": 3
   },
   "file_extension": ".py",
   "mimetype": "text/x-python",
   "name": "python",
   "nbconvert_exporter": "python",
   "pygments_lexer": "ipython3",
   "version": "3.7.10"
  }
 },
 "nbformat": 4,
 "nbformat_minor": 5
}
