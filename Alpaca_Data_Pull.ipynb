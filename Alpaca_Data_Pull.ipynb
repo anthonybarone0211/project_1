{
 "cells": [
  {
   "cell_type": "markdown",
   "source": [
    "# Pull Alpaca API data for ARKK holdings"
   ],
   "metadata": {}
  },
  {
   "cell_type": "code",
   "execution_count": 1,
   "source": [
    "import os\r\n",
    "import requests\r\n",
    "import pandas as pd\r\n",
    "from dotenv import load_dotenv\r\n",
    "import alpaca_trade_api as tradeapi\r\n",
    "from datetime import datetime, timedelta\r\n",
    "import questionary"
   ],
   "outputs": [],
   "metadata": {}
  },
  {
   "cell_type": "code",
   "execution_count": 2,
   "source": [
    "load_dotenv()"
   ],
   "outputs": [
    {
     "output_type": "execute_result",
     "data": {
      "text/plain": [
       "True"
      ]
     },
     "metadata": {},
     "execution_count": 2
    }
   ],
   "metadata": {}
  },
  {
   "cell_type": "code",
   "execution_count": 3,
   "source": [
    "alpaca_api_key = os.getenv(\"ALPACA_API_KEY\")\r\n",
    "alpaca_secret_key = os.getenv(\"ALPACA_SECRET_KEY\")"
   ],
   "outputs": [],
   "metadata": {}
  },
  {
   "cell_type": "code",
   "execution_count": 4,
   "source": [
    "alpaca = tradeapi.REST(\r\n",
    "    alpaca_api_key,\r\n",
    "    alpaca_secret_key,\r\n",
    "    api_version=\"v2\")"
   ],
   "outputs": [],
   "metadata": {}
  },
  {
   "cell_type": "code",
   "execution_count": 5,
   "source": [
    "print(alpaca)"
   ],
   "outputs": [
    {
     "output_type": "stream",
     "name": "stdout",
     "text": [
      "<alpaca_trade_api.rest.REST object at 0x000002C897FCE088>\n"
     ]
    }
   ],
   "metadata": {}
  },
  {
   "cell_type": "markdown",
   "source": [
    "## ARK ETF - Alpaca Data Pull"
   ],
   "metadata": {}
  },
  {
   "cell_type": "code",
   "execution_count": 6,
   "source": [
    "ARK_ETF = [\"TSLA\", \"ROKU\", \"TDOC\", \"MSTR\", \"SQ\", \"SHOP\", \"TTWO\", \"TWLO\", \"SPOT\", \"NTLA\", \"CRSP\", \"EXAS\", \"Z\", \"TWTR\", \"TER\",\"DOCU\",\"CGEN\"]"
   ],
   "outputs": [],
   "metadata": {}
  },
  {
   "cell_type": "code",
   "execution_count": 7,
   "source": [
    "timeframe = \"1D\""
   ],
   "outputs": [],
   "metadata": {}
  },
  {
   "cell_type": "code",
   "execution_count": 8,
   "source": [
    "start_date = pd.Timestamp(\"2018-09-01\", tz=\"America/New_York\").isoformat()\r\n",
    "end_date = pd.Timestamp(\"2021-08-01\", tz=\"America/New_York\").isoformat()"
   ],
   "outputs": [],
   "metadata": {}
  },
  {
   "cell_type": "code",
   "execution_count": 9,
   "source": [
    " ## This code artificially creates 3 years -- could replace code in line 8 --"
   ],
   "outputs": [],
   "metadata": {}
  },
  {
   "cell_type": "code",
   "execution_count": 10,
   "source": [
    "# today = datetime.now()\r\n",
    "# startdate = today - timedelta(days=3*365)"
   ],
   "outputs": [],
   "metadata": {}
  },
  {
   "cell_type": "code",
   "execution_count": 11,
   "source": [
    "# this is to convert the datetime format to the pd.Timestamp that alpaca api syntax requirement"
   ],
   "outputs": [],
   "metadata": {}
  },
  {
   "cell_type": "code",
   "execution_count": 12,
   "source": [
    "# end_date = pd.Timestamp(today.strftime(\"%Y-%m-%d\"), tz=\"America/New_York\").isoformat()\r\n",
    "# start_date = pd.Timestamp(startdate.strftime(\"%Y-%m-%d\"), tz=\"America/New_York\").isoformat()"
   ],
   "outputs": [],
   "metadata": {}
  },
  {
   "cell_type": "code",
   "execution_count": 13,
   "source": [
    "ARK_ETF_portfolio = alpaca.get_barset(\r\n",
    "    ARK_ETF,\r\n",
    "    timeframe,\r\n",
    "    start = start_date,\r\n",
    "    end = end_date,\r\n",
    "    limit=1000\r\n",
    ").df"
   ],
   "outputs": [],
   "metadata": {}
  },
  {
   "cell_type": "code",
   "execution_count": 14,
   "source": [
    "ARK_ETF_portfolio.head()"
   ],
   "outputs": [
    {
     "output_type": "execute_result",
     "data": {
      "text/plain": [
       "                            CRSP                                  EXAS         \\\n",
       "                            open   high     low  close   volume   open   high   \n",
       "time                                                                            \n",
       "2018-09-04 00:00:00-04:00  58.50  59.00  53.600  55.50  1032358  74.50  77.75   \n",
       "2018-09-05 00:00:00-04:00  55.50  55.50  52.005  53.44   606929  79.08  80.35   \n",
       "2018-09-06 00:00:00-04:00  53.17  53.72  49.580  49.84   558842  76.12  76.92   \n",
       "2018-09-07 00:00:00-04:00  50.00  51.73  49.360  50.12   431793  74.96  78.95   \n",
       "2018-09-10 00:00:00-04:00  50.66  50.85  47.500  49.67  1106214  77.51  78.00   \n",
       "\n",
       "                                                  ...   TWTR                   \\\n",
       "                             low  close   volume  ...   open    high      low   \n",
       "time                                              ...                           \n",
       "2018-09-04 00:00:00-04:00  74.26  77.61  1377323  ...  34.75  35.125  34.4800   \n",
       "2018-09-05 00:00:00-04:00  74.26  75.80  1713741  ...  34.65  34.700  32.5100   \n",
       "2018-09-06 00:00:00-04:00  74.15  75.04  1039141  ...  32.86  32.950  30.6200   \n",
       "2018-09-07 00:00:00-04:00  74.41  77.22  1384215  ...  30.31  31.390  29.8200   \n",
       "2018-09-10 00:00:00-04:00  75.58  75.99   812537  ...  30.50  30.600  29.9531   \n",
       "\n",
       "                                                Z                        \\\n",
       "                           close    volume   open    high    low  close   \n",
       "time                                                                      \n",
       "2018-09-04 00:00:00-04:00  34.84  12200652  48.55  48.900  47.56  47.72   \n",
       "2018-09-05 00:00:00-04:00  32.73  32198973  47.82  48.270  46.91  47.67   \n",
       "2018-09-06 00:00:00-04:00  30.82  33189835  47.68  47.980  43.87  44.62   \n",
       "2018-09-07 00:00:00-04:00  30.49  28893185  44.58  46.115  44.52  44.93   \n",
       "2018-09-10 00:00:00-04:00  30.54  15451664  45.00  46.200  44.60  46.12   \n",
       "\n",
       "                                    \n",
       "                            volume  \n",
       "time                                \n",
       "2018-09-04 00:00:00-04:00  1177704  \n",
       "2018-09-05 00:00:00-04:00  1171127  \n",
       "2018-09-06 00:00:00-04:00  2537771  \n",
       "2018-09-07 00:00:00-04:00  1830479  \n",
       "2018-09-10 00:00:00-04:00  1103775  \n",
       "\n",
       "[5 rows x 75 columns]"
      ],
      "text/html": [
       "<div>\n",
       "<style scoped>\n",
       "    .dataframe tbody tr th:only-of-type {\n",
       "        vertical-align: middle;\n",
       "    }\n",
       "\n",
       "    .dataframe tbody tr th {\n",
       "        vertical-align: top;\n",
       "    }\n",
       "\n",
       "    .dataframe thead tr th {\n",
       "        text-align: left;\n",
       "    }\n",
       "\n",
       "    .dataframe thead tr:last-of-type th {\n",
       "        text-align: right;\n",
       "    }\n",
       "</style>\n",
       "<table border=\"1\" class=\"dataframe\">\n",
       "  <thead>\n",
       "    <tr>\n",
       "      <th></th>\n",
       "      <th colspan=\"5\" halign=\"left\">CRSP</th>\n",
       "      <th colspan=\"5\" halign=\"left\">EXAS</th>\n",
       "      <th>...</th>\n",
       "      <th colspan=\"5\" halign=\"left\">TWTR</th>\n",
       "      <th colspan=\"5\" halign=\"left\">Z</th>\n",
       "    </tr>\n",
       "    <tr>\n",
       "      <th></th>\n",
       "      <th>open</th>\n",
       "      <th>high</th>\n",
       "      <th>low</th>\n",
       "      <th>close</th>\n",
       "      <th>volume</th>\n",
       "      <th>open</th>\n",
       "      <th>high</th>\n",
       "      <th>low</th>\n",
       "      <th>close</th>\n",
       "      <th>volume</th>\n",
       "      <th>...</th>\n",
       "      <th>open</th>\n",
       "      <th>high</th>\n",
       "      <th>low</th>\n",
       "      <th>close</th>\n",
       "      <th>volume</th>\n",
       "      <th>open</th>\n",
       "      <th>high</th>\n",
       "      <th>low</th>\n",
       "      <th>close</th>\n",
       "      <th>volume</th>\n",
       "    </tr>\n",
       "    <tr>\n",
       "      <th>time</th>\n",
       "      <th></th>\n",
       "      <th></th>\n",
       "      <th></th>\n",
       "      <th></th>\n",
       "      <th></th>\n",
       "      <th></th>\n",
       "      <th></th>\n",
       "      <th></th>\n",
       "      <th></th>\n",
       "      <th></th>\n",
       "      <th></th>\n",
       "      <th></th>\n",
       "      <th></th>\n",
       "      <th></th>\n",
       "      <th></th>\n",
       "      <th></th>\n",
       "      <th></th>\n",
       "      <th></th>\n",
       "      <th></th>\n",
       "      <th></th>\n",
       "      <th></th>\n",
       "    </tr>\n",
       "  </thead>\n",
       "  <tbody>\n",
       "    <tr>\n",
       "      <th>2018-09-04 00:00:00-04:00</th>\n",
       "      <td>58.50</td>\n",
       "      <td>59.00</td>\n",
       "      <td>53.600</td>\n",
       "      <td>55.50</td>\n",
       "      <td>1032358</td>\n",
       "      <td>74.50</td>\n",
       "      <td>77.75</td>\n",
       "      <td>74.26</td>\n",
       "      <td>77.61</td>\n",
       "      <td>1377323</td>\n",
       "      <td>...</td>\n",
       "      <td>34.75</td>\n",
       "      <td>35.125</td>\n",
       "      <td>34.4800</td>\n",
       "      <td>34.84</td>\n",
       "      <td>12200652</td>\n",
       "      <td>48.55</td>\n",
       "      <td>48.900</td>\n",
       "      <td>47.56</td>\n",
       "      <td>47.72</td>\n",
       "      <td>1177704</td>\n",
       "    </tr>\n",
       "    <tr>\n",
       "      <th>2018-09-05 00:00:00-04:00</th>\n",
       "      <td>55.50</td>\n",
       "      <td>55.50</td>\n",
       "      <td>52.005</td>\n",
       "      <td>53.44</td>\n",
       "      <td>606929</td>\n",
       "      <td>79.08</td>\n",
       "      <td>80.35</td>\n",
       "      <td>74.26</td>\n",
       "      <td>75.80</td>\n",
       "      <td>1713741</td>\n",
       "      <td>...</td>\n",
       "      <td>34.65</td>\n",
       "      <td>34.700</td>\n",
       "      <td>32.5100</td>\n",
       "      <td>32.73</td>\n",
       "      <td>32198973</td>\n",
       "      <td>47.82</td>\n",
       "      <td>48.270</td>\n",
       "      <td>46.91</td>\n",
       "      <td>47.67</td>\n",
       "      <td>1171127</td>\n",
       "    </tr>\n",
       "    <tr>\n",
       "      <th>2018-09-06 00:00:00-04:00</th>\n",
       "      <td>53.17</td>\n",
       "      <td>53.72</td>\n",
       "      <td>49.580</td>\n",
       "      <td>49.84</td>\n",
       "      <td>558842</td>\n",
       "      <td>76.12</td>\n",
       "      <td>76.92</td>\n",
       "      <td>74.15</td>\n",
       "      <td>75.04</td>\n",
       "      <td>1039141</td>\n",
       "      <td>...</td>\n",
       "      <td>32.86</td>\n",
       "      <td>32.950</td>\n",
       "      <td>30.6200</td>\n",
       "      <td>30.82</td>\n",
       "      <td>33189835</td>\n",
       "      <td>47.68</td>\n",
       "      <td>47.980</td>\n",
       "      <td>43.87</td>\n",
       "      <td>44.62</td>\n",
       "      <td>2537771</td>\n",
       "    </tr>\n",
       "    <tr>\n",
       "      <th>2018-09-07 00:00:00-04:00</th>\n",
       "      <td>50.00</td>\n",
       "      <td>51.73</td>\n",
       "      <td>49.360</td>\n",
       "      <td>50.12</td>\n",
       "      <td>431793</td>\n",
       "      <td>74.96</td>\n",
       "      <td>78.95</td>\n",
       "      <td>74.41</td>\n",
       "      <td>77.22</td>\n",
       "      <td>1384215</td>\n",
       "      <td>...</td>\n",
       "      <td>30.31</td>\n",
       "      <td>31.390</td>\n",
       "      <td>29.8200</td>\n",
       "      <td>30.49</td>\n",
       "      <td>28893185</td>\n",
       "      <td>44.58</td>\n",
       "      <td>46.115</td>\n",
       "      <td>44.52</td>\n",
       "      <td>44.93</td>\n",
       "      <td>1830479</td>\n",
       "    </tr>\n",
       "    <tr>\n",
       "      <th>2018-09-10 00:00:00-04:00</th>\n",
       "      <td>50.66</td>\n",
       "      <td>50.85</td>\n",
       "      <td>47.500</td>\n",
       "      <td>49.67</td>\n",
       "      <td>1106214</td>\n",
       "      <td>77.51</td>\n",
       "      <td>78.00</td>\n",
       "      <td>75.58</td>\n",
       "      <td>75.99</td>\n",
       "      <td>812537</td>\n",
       "      <td>...</td>\n",
       "      <td>30.50</td>\n",
       "      <td>30.600</td>\n",
       "      <td>29.9531</td>\n",
       "      <td>30.54</td>\n",
       "      <td>15451664</td>\n",
       "      <td>45.00</td>\n",
       "      <td>46.200</td>\n",
       "      <td>44.60</td>\n",
       "      <td>46.12</td>\n",
       "      <td>1103775</td>\n",
       "    </tr>\n",
       "  </tbody>\n",
       "</table>\n",
       "<p>5 rows × 75 columns</p>\n",
       "</div>"
      ]
     },
     "metadata": {},
     "execution_count": 14
    }
   ],
   "metadata": {}
  },
  {
   "cell_type": "code",
   "execution_count": 15,
   "source": [
    "## saving ARK_ETF_portfolio to csv"
   ],
   "outputs": [],
   "metadata": {}
  },
  {
   "cell_type": "code",
   "execution_count": 16,
   "source": [
    "ARK_ETF_portfolio.to_csv(\"Ark_ETF.csv\")"
   ],
   "outputs": [],
   "metadata": {}
  },
  {
   "cell_type": "markdown",
   "source": [
    "### Competitors - Alpaca Data Pull"
   ],
   "metadata": {}
  },
  {
   "cell_type": "code",
   "execution_count": 17,
   "source": [
    "competitors_df = [\"NIO\", \"NFLX\", \"PFE\", \"MSFT\", \"V\", \"PYPL\", \"CRM\", \"ATVI\", \"VG\", \"TTD\", \"IONS\", \"NVAX\", \"AMGN\", \"RDFN\", \"SNAP\"]"
   ],
   "outputs": [],
   "metadata": {}
  },
  {
   "cell_type": "code",
   "execution_count": 18,
   "source": [
    "timeframe = \"1D\""
   ],
   "outputs": [],
   "metadata": {}
  },
  {
   "cell_type": "code",
   "execution_count": 19,
   "source": [
    "start_date = pd.Timestamp(\"2018-09-01\", tz=\"America/New_York\").isoformat()\r\n",
    "end_date = pd.Timestamp(\"2021-08-01\", tz=\"America/New_York\").isoformat()"
   ],
   "outputs": [],
   "metadata": {}
  },
  {
   "cell_type": "code",
   "execution_count": 20,
   "source": [
    " ## This code artificially creates 3 years -- could replace code in line 16 --"
   ],
   "outputs": [],
   "metadata": {}
  },
  {
   "cell_type": "code",
   "execution_count": 21,
   "source": [
    "today = datetime.now()\r\n",
    "startdate = today - timedelta(days=3*365)"
   ],
   "outputs": [],
   "metadata": {}
  },
  {
   "cell_type": "code",
   "execution_count": 22,
   "source": [
    "end_date = pd.Timestamp(today.strftime(\"%Y-%m-%d\"), tz=\"America/New_York\").isoformat()\r\n",
    "start_date = pd.Timestamp(startdate.strftime(\"%Y-%m-%d\"), tz=\"America/New_York\").isoformat()"
   ],
   "outputs": [],
   "metadata": {}
  },
  {
   "cell_type": "code",
   "execution_count": 23,
   "source": [
    "competitors_list = alpaca.get_barset(\r\n",
    "    competitors_df,\r\n",
    "    timeframe,\r\n",
    "    start = start_date,\r\n",
    "    end = end_date,\r\n",
    "    limit=1000\r\n",
    ").df"
   ],
   "outputs": [],
   "metadata": {}
  },
  {
   "cell_type": "code",
   "execution_count": 24,
   "source": [
    "competitors_list.head()"
   ],
   "outputs": [
    {
     "output_type": "execute_result",
     "data": {
      "text/plain": [
       "                             AMGN                                    ATVI  \\\n",
       "                             open    high     low   close   volume   open   \n",
       "time                                                                        \n",
       "2018-08-15 00:00:00-04:00  194.83  195.48  192.89  195.23  1619580  70.39   \n",
       "2018-08-16 00:00:00-04:00  194.46  197.13  192.73  196.48  2041279  69.68   \n",
       "2018-08-17 00:00:00-04:00  196.24  198.51  195.28  197.42  1750815  69.51   \n",
       "2018-08-20 00:00:00-04:00  197.89  198.50  196.87  197.54  1200772  69.21   \n",
       "2018-08-21 00:00:00-04:00  197.93  198.40  196.73  197.32  1212006  69.27   \n",
       "\n",
       "                                                            ...       V  \\\n",
       "                            high     low  close     volume  ...    open   \n",
       "time                                                        ...           \n",
       "2018-08-15 00:00:00-04:00  70.81  68.445  69.31  7779210.0  ...  140.35   \n",
       "2018-08-16 00:00:00-04:00  69.99  68.910  69.69  8359894.0  ...  140.75   \n",
       "2018-08-17 00:00:00-04:00  69.67  68.330  69.14  4825534.0  ...  140.78   \n",
       "2018-08-20 00:00:00-04:00  69.39  68.220  68.94  3761930.0  ...  141.54   \n",
       "2018-08-21 00:00:00-04:00  70.26  69.040  69.67  4748136.0  ...  141.00   \n",
       "\n",
       "                                                                  VG           \\\n",
       "                               high      low   close   volume   open     high   \n",
       "time                                                                            \n",
       "2018-08-15 00:00:00-04:00  140.6900  138.840  139.92  3682605  14.37  14.5000   \n",
       "2018-08-16 00:00:00-04:00  141.4900  140.420  140.64  3688784  14.13  14.4600   \n",
       "2018-08-17 00:00:00-04:00  141.7100  140.565  141.38  3938667  14.23  14.5900   \n",
       "2018-08-20 00:00:00-04:00  141.6000  140.700  140.94  2815641  14.57  14.6115   \n",
       "2018-08-21 00:00:00-04:00  141.4574  139.800  140.02  3455094  14.53  14.5500   \n",
       "\n",
       "                                                     \n",
       "                             low   close     volume  \n",
       "time                                                 \n",
       "2018-08-15 00:00:00-04:00  14.09  14.125  1875413.0  \n",
       "2018-08-16 00:00:00-04:00  14.08  14.240   899309.0  \n",
       "2018-08-17 00:00:00-04:00  14.14  14.560  1050613.0  \n",
       "2018-08-20 00:00:00-04:00  14.30  14.485   598652.0  \n",
       "2018-08-21 00:00:00-04:00  14.30  14.300   942216.0  \n",
       "\n",
       "[5 rows x 85 columns]"
      ],
      "text/html": [
       "<div>\n",
       "<style scoped>\n",
       "    .dataframe tbody tr th:only-of-type {\n",
       "        vertical-align: middle;\n",
       "    }\n",
       "\n",
       "    .dataframe tbody tr th {\n",
       "        vertical-align: top;\n",
       "    }\n",
       "\n",
       "    .dataframe thead tr th {\n",
       "        text-align: left;\n",
       "    }\n",
       "\n",
       "    .dataframe thead tr:last-of-type th {\n",
       "        text-align: right;\n",
       "    }\n",
       "</style>\n",
       "<table border=\"1\" class=\"dataframe\">\n",
       "  <thead>\n",
       "    <tr>\n",
       "      <th></th>\n",
       "      <th colspan=\"5\" halign=\"left\">AMGN</th>\n",
       "      <th colspan=\"5\" halign=\"left\">ATVI</th>\n",
       "      <th>...</th>\n",
       "      <th colspan=\"5\" halign=\"left\">V</th>\n",
       "      <th colspan=\"5\" halign=\"left\">VG</th>\n",
       "    </tr>\n",
       "    <tr>\n",
       "      <th></th>\n",
       "      <th>open</th>\n",
       "      <th>high</th>\n",
       "      <th>low</th>\n",
       "      <th>close</th>\n",
       "      <th>volume</th>\n",
       "      <th>open</th>\n",
       "      <th>high</th>\n",
       "      <th>low</th>\n",
       "      <th>close</th>\n",
       "      <th>volume</th>\n",
       "      <th>...</th>\n",
       "      <th>open</th>\n",
       "      <th>high</th>\n",
       "      <th>low</th>\n",
       "      <th>close</th>\n",
       "      <th>volume</th>\n",
       "      <th>open</th>\n",
       "      <th>high</th>\n",
       "      <th>low</th>\n",
       "      <th>close</th>\n",
       "      <th>volume</th>\n",
       "    </tr>\n",
       "    <tr>\n",
       "      <th>time</th>\n",
       "      <th></th>\n",
       "      <th></th>\n",
       "      <th></th>\n",
       "      <th></th>\n",
       "      <th></th>\n",
       "      <th></th>\n",
       "      <th></th>\n",
       "      <th></th>\n",
       "      <th></th>\n",
       "      <th></th>\n",
       "      <th></th>\n",
       "      <th></th>\n",
       "      <th></th>\n",
       "      <th></th>\n",
       "      <th></th>\n",
       "      <th></th>\n",
       "      <th></th>\n",
       "      <th></th>\n",
       "      <th></th>\n",
       "      <th></th>\n",
       "      <th></th>\n",
       "    </tr>\n",
       "  </thead>\n",
       "  <tbody>\n",
       "    <tr>\n",
       "      <th>2018-08-15 00:00:00-04:00</th>\n",
       "      <td>194.83</td>\n",
       "      <td>195.48</td>\n",
       "      <td>192.89</td>\n",
       "      <td>195.23</td>\n",
       "      <td>1619580</td>\n",
       "      <td>70.39</td>\n",
       "      <td>70.81</td>\n",
       "      <td>68.445</td>\n",
       "      <td>69.31</td>\n",
       "      <td>7779210.0</td>\n",
       "      <td>...</td>\n",
       "      <td>140.35</td>\n",
       "      <td>140.6900</td>\n",
       "      <td>138.840</td>\n",
       "      <td>139.92</td>\n",
       "      <td>3682605</td>\n",
       "      <td>14.37</td>\n",
       "      <td>14.5000</td>\n",
       "      <td>14.09</td>\n",
       "      <td>14.125</td>\n",
       "      <td>1875413.0</td>\n",
       "    </tr>\n",
       "    <tr>\n",
       "      <th>2018-08-16 00:00:00-04:00</th>\n",
       "      <td>194.46</td>\n",
       "      <td>197.13</td>\n",
       "      <td>192.73</td>\n",
       "      <td>196.48</td>\n",
       "      <td>2041279</td>\n",
       "      <td>69.68</td>\n",
       "      <td>69.99</td>\n",
       "      <td>68.910</td>\n",
       "      <td>69.69</td>\n",
       "      <td>8359894.0</td>\n",
       "      <td>...</td>\n",
       "      <td>140.75</td>\n",
       "      <td>141.4900</td>\n",
       "      <td>140.420</td>\n",
       "      <td>140.64</td>\n",
       "      <td>3688784</td>\n",
       "      <td>14.13</td>\n",
       "      <td>14.4600</td>\n",
       "      <td>14.08</td>\n",
       "      <td>14.240</td>\n",
       "      <td>899309.0</td>\n",
       "    </tr>\n",
       "    <tr>\n",
       "      <th>2018-08-17 00:00:00-04:00</th>\n",
       "      <td>196.24</td>\n",
       "      <td>198.51</td>\n",
       "      <td>195.28</td>\n",
       "      <td>197.42</td>\n",
       "      <td>1750815</td>\n",
       "      <td>69.51</td>\n",
       "      <td>69.67</td>\n",
       "      <td>68.330</td>\n",
       "      <td>69.14</td>\n",
       "      <td>4825534.0</td>\n",
       "      <td>...</td>\n",
       "      <td>140.78</td>\n",
       "      <td>141.7100</td>\n",
       "      <td>140.565</td>\n",
       "      <td>141.38</td>\n",
       "      <td>3938667</td>\n",
       "      <td>14.23</td>\n",
       "      <td>14.5900</td>\n",
       "      <td>14.14</td>\n",
       "      <td>14.560</td>\n",
       "      <td>1050613.0</td>\n",
       "    </tr>\n",
       "    <tr>\n",
       "      <th>2018-08-20 00:00:00-04:00</th>\n",
       "      <td>197.89</td>\n",
       "      <td>198.50</td>\n",
       "      <td>196.87</td>\n",
       "      <td>197.54</td>\n",
       "      <td>1200772</td>\n",
       "      <td>69.21</td>\n",
       "      <td>69.39</td>\n",
       "      <td>68.220</td>\n",
       "      <td>68.94</td>\n",
       "      <td>3761930.0</td>\n",
       "      <td>...</td>\n",
       "      <td>141.54</td>\n",
       "      <td>141.6000</td>\n",
       "      <td>140.700</td>\n",
       "      <td>140.94</td>\n",
       "      <td>2815641</td>\n",
       "      <td>14.57</td>\n",
       "      <td>14.6115</td>\n",
       "      <td>14.30</td>\n",
       "      <td>14.485</td>\n",
       "      <td>598652.0</td>\n",
       "    </tr>\n",
       "    <tr>\n",
       "      <th>2018-08-21 00:00:00-04:00</th>\n",
       "      <td>197.93</td>\n",
       "      <td>198.40</td>\n",
       "      <td>196.73</td>\n",
       "      <td>197.32</td>\n",
       "      <td>1212006</td>\n",
       "      <td>69.27</td>\n",
       "      <td>70.26</td>\n",
       "      <td>69.040</td>\n",
       "      <td>69.67</td>\n",
       "      <td>4748136.0</td>\n",
       "      <td>...</td>\n",
       "      <td>141.00</td>\n",
       "      <td>141.4574</td>\n",
       "      <td>139.800</td>\n",
       "      <td>140.02</td>\n",
       "      <td>3455094</td>\n",
       "      <td>14.53</td>\n",
       "      <td>14.5500</td>\n",
       "      <td>14.30</td>\n",
       "      <td>14.300</td>\n",
       "      <td>942216.0</td>\n",
       "    </tr>\n",
       "  </tbody>\n",
       "</table>\n",
       "<p>5 rows × 85 columns</p>\n",
       "</div>"
      ]
     },
     "metadata": {},
     "execution_count": 24
    }
   ],
   "metadata": {}
  },
  {
   "cell_type": "code",
   "execution_count": 25,
   "source": [
    "## saving competitors_portfolio to csv"
   ],
   "outputs": [],
   "metadata": {}
  },
  {
   "cell_type": "code",
   "execution_count": 26,
   "source": [
    "competitors_list.to_csv(\"competitors_list.csv\")"
   ],
   "outputs": [],
   "metadata": {}
  },
  {
   "cell_type": "code",
   "execution_count": 27,
   "source": [
    "## Dictionary & weights "
   ],
   "outputs": [],
   "metadata": {}
  },
  {
   "cell_type": "code",
   "execution_count": 45,
   "source": [],
   "outputs": [
    {
     "output_type": "error",
     "ename": "RuntimeError",
     "evalue": "This event loop is already running",
     "traceback": [
      "\u001b[1;31m---------------------------------------------------------------------------\u001b[0m",
      "\u001b[1;31mRuntimeError\u001b[0m                              Traceback (most recent call last)",
      "\u001b[1;32m<ipython-input-45-8ee700e6baa9>\u001b[0m in \u001b[0;36m<module>\u001b[1;34m\u001b[0m\n\u001b[0;32m      1\u001b[0m alt_stock_1 = questionary.select(\n\u001b[0;32m      2\u001b[0m     \u001b[1;34m\"Which is the first stock from the ARK ETF you want to replace?\"\u001b[0m\u001b[1;33m,\u001b[0m\u001b[1;33m\u001b[0m\u001b[1;33m\u001b[0m\u001b[0m\n\u001b[1;32m----> 3\u001b[1;33m     \u001b[0mARK_ETF\u001b[0m\u001b[1;33m\u001b[0m\u001b[1;33m\u001b[0m\u001b[0m\n\u001b[0m\u001b[0;32m      4\u001b[0m ).ask()\n\u001b[0;32m      5\u001b[0m \u001b[1;33m\u001b[0m\u001b[0m\n",
      "\u001b[1;32m~\\anaconda3\\envs\\atmdev\\lib\\site-packages\\questionary\\question.py\u001b[0m in \u001b[0;36mask\u001b[1;34m(self, patch_stdout, kbi_msg)\u001b[0m\n\u001b[0;32m     68\u001b[0m \u001b[1;33m\u001b[0m\u001b[0m\n\u001b[0;32m     69\u001b[0m         \u001b[1;32mtry\u001b[0m\u001b[1;33m:\u001b[0m\u001b[1;33m\u001b[0m\u001b[1;33m\u001b[0m\u001b[0m\n\u001b[1;32m---> 70\u001b[1;33m             \u001b[1;32mreturn\u001b[0m \u001b[0mself\u001b[0m\u001b[1;33m.\u001b[0m\u001b[0munsafe_ask\u001b[0m\u001b[1;33m(\u001b[0m\u001b[0mpatch_stdout\u001b[0m\u001b[1;33m)\u001b[0m\u001b[1;33m\u001b[0m\u001b[1;33m\u001b[0m\u001b[0m\n\u001b[0m\u001b[0;32m     71\u001b[0m         \u001b[1;32mexcept\u001b[0m \u001b[0mKeyboardInterrupt\u001b[0m\u001b[1;33m:\u001b[0m\u001b[1;33m\u001b[0m\u001b[1;33m\u001b[0m\u001b[0m\n\u001b[0;32m     72\u001b[0m             \u001b[0mprint\u001b[0m\u001b[1;33m(\u001b[0m\u001b[1;34m\"\\n{}\\n\"\u001b[0m\u001b[1;33m.\u001b[0m\u001b[0mformat\u001b[0m\u001b[1;33m(\u001b[0m\u001b[0mkbi_msg\u001b[0m\u001b[1;33m)\u001b[0m\u001b[1;33m)\u001b[0m\u001b[1;33m\u001b[0m\u001b[1;33m\u001b[0m\u001b[0m\n",
      "\u001b[1;32m~\\anaconda3\\envs\\atmdev\\lib\\site-packages\\questionary\\question.py\u001b[0m in \u001b[0;36munsafe_ask\u001b[1;34m(self, patch_stdout)\u001b[0m\n\u001b[0;32m     90\u001b[0m                 \u001b[1;32mreturn\u001b[0m \u001b[0mself\u001b[0m\u001b[1;33m.\u001b[0m\u001b[0mapplication\u001b[0m\u001b[1;33m.\u001b[0m\u001b[0mrun\u001b[0m\u001b[1;33m(\u001b[0m\u001b[1;33m)\u001b[0m\u001b[1;33m\u001b[0m\u001b[1;33m\u001b[0m\u001b[0m\n\u001b[0;32m     91\u001b[0m         \u001b[1;32melse\u001b[0m\u001b[1;33m:\u001b[0m\u001b[1;33m\u001b[0m\u001b[1;33m\u001b[0m\u001b[0m\n\u001b[1;32m---> 92\u001b[1;33m             \u001b[1;32mreturn\u001b[0m \u001b[0mself\u001b[0m\u001b[1;33m.\u001b[0m\u001b[0mapplication\u001b[0m\u001b[1;33m.\u001b[0m\u001b[0mrun\u001b[0m\u001b[1;33m(\u001b[0m\u001b[1;33m)\u001b[0m\u001b[1;33m\u001b[0m\u001b[1;33m\u001b[0m\u001b[0m\n\u001b[0m\u001b[0;32m     93\u001b[0m \u001b[1;33m\u001b[0m\u001b[0m\n\u001b[0;32m     94\u001b[0m     \u001b[1;32mdef\u001b[0m \u001b[0mskip_if\u001b[0m\u001b[1;33m(\u001b[0m\u001b[0mself\u001b[0m\u001b[1;33m,\u001b[0m \u001b[0mcondition\u001b[0m\u001b[1;33m:\u001b[0m \u001b[0mbool\u001b[0m\u001b[1;33m,\u001b[0m \u001b[0mdefault\u001b[0m\u001b[1;33m:\u001b[0m \u001b[0mAny\u001b[0m \u001b[1;33m=\u001b[0m \u001b[1;32mNone\u001b[0m\u001b[1;33m)\u001b[0m \u001b[1;33m->\u001b[0m \u001b[1;34m\"Question\"\u001b[0m\u001b[1;33m:\u001b[0m\u001b[1;33m\u001b[0m\u001b[1;33m\u001b[0m\u001b[0m\n",
      "\u001b[1;32m~\\anaconda3\\envs\\atmdev\\lib\\site-packages\\prompt_toolkit\\application\\application.py\u001b[0m in \u001b[0;36mrun\u001b[1;34m(self, pre_run, set_exception_handler)\u001b[0m\n\u001b[0;32m    847\u001b[0m \u001b[1;33m\u001b[0m\u001b[0m\n\u001b[0;32m    848\u001b[0m         return loop.run_until_complete(\n\u001b[1;32m--> 849\u001b[1;33m             \u001b[0mself\u001b[0m\u001b[1;33m.\u001b[0m\u001b[0mrun_async\u001b[0m\u001b[1;33m(\u001b[0m\u001b[0mpre_run\u001b[0m\u001b[1;33m=\u001b[0m\u001b[0mpre_run\u001b[0m\u001b[1;33m,\u001b[0m \u001b[0mset_exception_handler\u001b[0m\u001b[1;33m=\u001b[0m\u001b[0mset_exception_handler\u001b[0m\u001b[1;33m)\u001b[0m\u001b[1;33m\u001b[0m\u001b[1;33m\u001b[0m\u001b[0m\n\u001b[0m\u001b[0;32m    850\u001b[0m         )\n\u001b[0;32m    851\u001b[0m \u001b[1;33m\u001b[0m\u001b[0m\n",
      "\u001b[1;32m~\\anaconda3\\envs\\atmdev\\lib\\asyncio\\base_events.py\u001b[0m in \u001b[0;36mrun_until_complete\u001b[1;34m(self, future)\u001b[0m\n\u001b[0;32m    561\u001b[0m         \"\"\"\n\u001b[0;32m    562\u001b[0m         \u001b[0mself\u001b[0m\u001b[1;33m.\u001b[0m\u001b[0m_check_closed\u001b[0m\u001b[1;33m(\u001b[0m\u001b[1;33m)\u001b[0m\u001b[1;33m\u001b[0m\u001b[1;33m\u001b[0m\u001b[0m\n\u001b[1;32m--> 563\u001b[1;33m         \u001b[0mself\u001b[0m\u001b[1;33m.\u001b[0m\u001b[0m_check_runnung\u001b[0m\u001b[1;33m(\u001b[0m\u001b[1;33m)\u001b[0m\u001b[1;33m\u001b[0m\u001b[1;33m\u001b[0m\u001b[0m\n\u001b[0m\u001b[0;32m    564\u001b[0m \u001b[1;33m\u001b[0m\u001b[0m\n\u001b[0;32m    565\u001b[0m         \u001b[0mnew_task\u001b[0m \u001b[1;33m=\u001b[0m \u001b[1;32mnot\u001b[0m \u001b[0mfutures\u001b[0m\u001b[1;33m.\u001b[0m\u001b[0misfuture\u001b[0m\u001b[1;33m(\u001b[0m\u001b[0mfuture\u001b[0m\u001b[1;33m)\u001b[0m\u001b[1;33m\u001b[0m\u001b[1;33m\u001b[0m\u001b[0m\n",
      "\u001b[1;32m~\\anaconda3\\envs\\atmdev\\lib\\asyncio\\base_events.py\u001b[0m in \u001b[0;36m_check_runnung\u001b[1;34m(self)\u001b[0m\n\u001b[0;32m    521\u001b[0m     \u001b[1;32mdef\u001b[0m \u001b[0m_check_runnung\u001b[0m\u001b[1;33m(\u001b[0m\u001b[0mself\u001b[0m\u001b[1;33m)\u001b[0m\u001b[1;33m:\u001b[0m\u001b[1;33m\u001b[0m\u001b[1;33m\u001b[0m\u001b[0m\n\u001b[0;32m    522\u001b[0m         \u001b[1;32mif\u001b[0m \u001b[0mself\u001b[0m\u001b[1;33m.\u001b[0m\u001b[0mis_running\u001b[0m\u001b[1;33m(\u001b[0m\u001b[1;33m)\u001b[0m\u001b[1;33m:\u001b[0m\u001b[1;33m\u001b[0m\u001b[1;33m\u001b[0m\u001b[0m\n\u001b[1;32m--> 523\u001b[1;33m             \u001b[1;32mraise\u001b[0m \u001b[0mRuntimeError\u001b[0m\u001b[1;33m(\u001b[0m\u001b[1;34m'This event loop is already running'\u001b[0m\u001b[1;33m)\u001b[0m\u001b[1;33m\u001b[0m\u001b[1;33m\u001b[0m\u001b[0m\n\u001b[0m\u001b[0;32m    524\u001b[0m         \u001b[1;32mif\u001b[0m \u001b[0mevents\u001b[0m\u001b[1;33m.\u001b[0m\u001b[0m_get_running_loop\u001b[0m\u001b[1;33m(\u001b[0m\u001b[1;33m)\u001b[0m \u001b[1;32mis\u001b[0m \u001b[1;32mnot\u001b[0m \u001b[1;32mNone\u001b[0m\u001b[1;33m:\u001b[0m\u001b[1;33m\u001b[0m\u001b[1;33m\u001b[0m\u001b[0m\n\u001b[0;32m    525\u001b[0m             raise RuntimeError(\n",
      "\u001b[1;31mRuntimeError\u001b[0m: This event loop is already running"
     ]
    }
   ],
   "metadata": {}
  },
  {
   "cell_type": "code",
   "execution_count": 28,
   "source": [
    "ARK_weight = {\r\n",
    "    \"TSLA\": 0.17,\r\n",
    "    \"ROKU\": 0.08,\r\n",
    "    \"TDOC\": 0.057,\r\n",
    "    \"MSTR\": 0.11,\r\n",
    "    \"SQ\": 0.057,\r\n",
    "    \"SHOP\": 0.043,\r\n",
    "    \"TTWO\": 0.04,\r\n",
    "    \"TWLO\": 0.0368,\r\n",
    "    \"SPOT\": 0.0535,\r\n",
    "    \"NTLA\": 0.0301,\r\n",
    "    \"CRSP\": 0.0526,\r\n",
    "    \"EXAS\": 0.048,\r\n",
    "    \"Z\": 0.052,\r\n",
    "    \"TWTR\": 0.043,\r\n",
    "    \"TER\": 0.02,\r\n",
    "    \"DOCU\": 0.082,\r\n",
    "    \"CGEN\": 0.025\r\n",
    "}"
   ],
   "outputs": [],
   "metadata": {}
  },
  {
   "cell_type": "code",
   "execution_count": 29,
   "source": [
    "competitors_weight = {}"
   ],
   "outputs": [],
   "metadata": {}
  },
  {
   "cell_type": "code",
   "execution_count": 30,
   "source": [
    "for ticker in ARK_weight:\r\n",
    "    competitors_weight [competitors_df [ARK_ETF.index(ticker)]] = ARK_weight[ticker]                "
   ],
   "outputs": [],
   "metadata": {}
  },
  {
   "cell_type": "code",
   "execution_count": 31,
   "source": [
    "print(competitors_weight)"
   ],
   "outputs": [
    {
     "output_type": "stream",
     "name": "stdout",
     "text": [
      "{'NIO': 0.1016, 'NFLX': 0.0571, 'PFE': 0.057, 'MSFT': 0.01, 'V': 0.0463, 'PYPL': 0.0438, 'CRM': 0.01, 'ATVI': 0.0368, 'VG': 0.0335, 'TTD': 0.0301, 'IONS': 0.0292, 'NVAX': 0.0281, 'AMGN': 0.0276, 'RDFN': 0.0242, 'SNAP': 0.01}\n"
     ]
    }
   ],
   "metadata": {}
  },
  {
   "cell_type": "code",
   "execution_count": null,
   "source": [],
   "outputs": [],
   "metadata": {}
  },
  {
   "cell_type": "code",
   "execution_count": null,
   "source": [],
   "outputs": [],
   "metadata": {}
  }
 ],
 "metadata": {
  "kernelspec": {
   "display_name": "Python 3",
   "language": "python",
   "name": "python3"
  },
  "language_info": {
   "codemirror_mode": {
    "name": "ipython",
    "version": 3
   },
   "file_extension": ".py",
   "mimetype": "text/x-python",
   "name": "python",
   "nbconvert_exporter": "python",
   "pygments_lexer": "ipython3",
   "version": "3.7.10"
  }
 },
 "nbformat": 4,
 "nbformat_minor": 5
}